{
  "nbformat": 4,
  "nbformat_minor": 0,
  "metadata": {
    "colab": {
      "provenance": []
    },
    "kernelspec": {
      "name": "python3",
      "display_name": "Python 3"
    },
    "language_info": {
      "name": "python"
    }
  },
  "cells": [
    {
      "cell_type": "markdown",
      "source": [
        "##Initialization"
      ],
      "metadata": {
        "id": "qjEcDTGN99iR"
      }
    },
    {
      "cell_type": "code",
      "execution_count": 54,
      "metadata": {
        "id": "pN3bDra0EgOe"
      },
      "outputs": [],
      "source": [
        "import numpy as np\n",
        "import torch\n",
        "import torch.nn as nn\n",
        "import torch.optim as optim\n",
        "\n",
        "import pandas as pd\n",
        "from collections import defaultdict\n",
        "import random\n",
        "np.random.seed(211)"
      ]
    },
    {
      "cell_type": "code",
      "source": [
        "import requests\n",
        "import zipfile\n",
        "import io\n",
        "\n",
        "# URL of the dataset.\n",
        "url = \"https://archive.ics.uci.edu/static/public/380/youtube+spam+collection.zip\"\n",
        "\n",
        "# Download the dataset.\n",
        "response = requests.get(url)\n",
        "\n",
        "# Unzip the downloaded content.\n",
        "with zipfile.ZipFile(io.BytesIO(response.content)) as z:\n",
        "    z.extractall()"
      ],
      "metadata": {
        "id": "wUgAfSneU-8M"
      },
      "execution_count": 55,
      "outputs": []
    },
    {
      "cell_type": "markdown",
      "source": [
        "# PSY - Gangnam style comments"
      ],
      "metadata": {
        "id": "spJ_Sr3eLz83"
      }
    },
    {
      "cell_type": "markdown",
      "source": [
        "## Data preprocessing/tokenization"
      ],
      "metadata": {
        "id": "T9PJz9Fm-gAF"
      }
    },
    {
      "cell_type": "code",
      "source": [
        "# Number of states (ham, spam) and features.\n",
        "n_states = 2\n",
        "\n",
        "# Maximum number of words that will be defined its sown token.\n",
        "n_features = 400\n",
        "\n",
        "# Load the dataset.\n",
        "df = pd.read_csv(\"Youtube01-Psy.csv\", header=None, names=[\"ID\", \"Author\", \"Date\", \"Message\", \"Label\"])"
      ],
      "metadata": {
        "id": "-x_AJsvbHUbY"
      },
      "execution_count": 100,
      "outputs": []
    },
    {
      "cell_type": "code",
      "source": [
        "# Map labels ham/spam to binary values.\n",
        "df['Label'] = df['Label'].map({'0': 0, '1': 1})\n",
        "\n",
        "# Train/Val/Test split: 80%/10%/10%\n",
        "train_data = df.sample(n=int((df.shape[0])*0.8), random_state=10)\n",
        "rem = df.drop(train_data.index)\n",
        "val_data = rem.sample(n=int((rem.shape[0])*0.5), random_state=10)\n",
        "test_data = rem.drop(val_data.index)\n",
        "\n",
        "# Extract text data and labels.\n",
        "train_text = train_data['Message'].tolist()\n",
        "train_labels = train_data['Label'].tolist()\n",
        "val_text = val_data['Message'].tolist()\n",
        "val_labels = val_data['Label'].tolist()\n",
        "test_text = test_data['Message'].tolist()\n",
        "test_labels = test_data['Label'].tolist()\n",
        "\n",
        "#train_text = train_text[:500]\n",
        "#train_labels = train_labels[:500]\n",
        "#val_text = val_text[:100]\n",
        "#val_labels = val_labels[:100]\n",
        "#test_text = test_text[:100]\n",
        "#test_labels = test_labels[:100]\n",
        "\n",
        "# Initialize a vocabulary and assign each unique word an integer ID.\n",
        "word_to_id = defaultdict(lambda: len(word_to_id))\n",
        "\n",
        "# Special tokens for padding and unknown words\n",
        "PAD_TOKEN = \"<PAD>\"\n",
        "UNK_TOKEN = \"<UNK>\"\n",
        "word_to_id[PAD_TOKEN] = 0\n",
        "word_to_id[UNK_TOKEN] = 1\n",
        "\n",
        "# Function to tokenize and encode each message.\n",
        "def tokenize_and_encode(msgs, word_to_id):\n",
        "    encoded_sequences = []\n",
        "    for msg in msgs:\n",
        "        tokens = msg.split()\n",
        "        encoded_msg = [word_to_id[token] if token in word_to_id else word_to_id[UNK_TOKEN]\n",
        "                           for token in tokens]\n",
        "        encoded_sequences.append(encoded_msg)\n",
        "    return encoded_sequences"
      ],
      "metadata": {
        "id": "gXt_MWJy3Tmf"
      },
      "execution_count": 101,
      "outputs": []
    },
    {
      "cell_type": "code",
      "source": [
        "# Assign each string in the dataset a token\n",
        "text_data_shuffle = train_data['Message'].tolist()\n",
        "random.shuffle(text_data_shuffle)\n",
        "for message in text_data_shuffle:\n",
        "  tokens = message.split() # Split the strings in each message to process every word separately.\n",
        "  for token in tokens:\n",
        "    if len(word_to_id) >= n_features: # Cap the dictionary length to the defined number of features to prevent overfitting.\n",
        "      break\n",
        "    _ = word_to_id[token] # If a word isn't already assigned a token, give it a token.\n",
        "  if len(word_to_id) >= n_features:\n",
        "    break"
      ],
      "metadata": {
        "id": "C7XnhjI7SZV5"
      },
      "execution_count": 102,
      "outputs": []
    },
    {
      "cell_type": "code",
      "source": [
        "print(\"Vocabulary:\", dict(word_to_id))"
      ],
      "metadata": {
        "colab": {
          "base_uri": "https://localhost:8080/"
        },
        "id": "h9uxWoE1SlgD",
        "outputId": "603085d4-f2e6-4a26-d1fe-3e308caaf009"
      },
      "execution_count": 103,
      "outputs": [
        {
          "output_type": "stream",
          "name": "stdout",
          "text": [
            "Vocabulary: {'<PAD>': 0, '<UNK>': 1, 'The': 2, 'most': 3, 'liked': 4, 'video': 5, 'on': 6, 'YouTube...\\ufeff': 7, 'Hey,': 8, 'join': 9, 'me': 10, 'tsū,': 11, 'a': 12, 'publishing': 13, 'platform': 14, 'where': 15, 'I': 16, 'share': 17, 'my': 18, 'content': 19, 'now:': 20, 'http://tsu.co/MarkusMairhofer\\ufeff': 21, 'Please': 22, 'help': 23, 'go': 24, 'to': 25, 'college': 26, 'guys!': 27, 'Thanks': 28, 'from': 29, 'the': 30, 'bottom': 31, 'of': 32, 'heart.': 33, 'https://www.indiegogo.com/projects/i-want-to-go-to-college--19/x/9082175\\ufeff': 34, 'Why': 35, 'does': 36, 'song': 37, 'like': 38, 'this': 39, 'have': 40, 'more': 41, 'views': 42, 'than': 43, 'Michael': 44, 'Jackson': 45, 'SMH\\ufeff': 46, 'Can': 47, 'we': 48, 'reach': 49, '3': 50, 'billion': 51, 'by': 52, 'December': 53, '2014?': 54, '\\ufeff': 55, 'imagine': 56, 'if': 57, 'guy': 58, 'put': 59, 'adsense': 60, 'with': 61, 'all': 62, 'these': 63, 'views...': 64, 'u': 65, 'could': 66, 'pay': 67, 'ur': 68, 'morgage\\ufeff': 69, 'Check': 70, 'channel': 71, 'please!': 72, 'And': 73, 'listen': 74, 'best': 75, 'music': 76, 'ever': 77, ':P\\ufeff': 78, 'We': 79, 'pray': 80, 'for': 81, 'you': 82, 'Little': 83, 'Psy': 84, '♡\\ufeff': 85, 'just': 86, 'came': 87, 'check': 88, 'view': 89, 'count\\ufeff': 90, 'SUBSCRIBE': 91, 'TO': 92, 'ME': 93, 'AND': 94, \"I'LL\": 95, 'YOU!': 96, '(Must': 97, '-': 98, 'cZFcxsn0jnQ)': 99, 'For': 100, 'Christmas': 101, 'Song': 102, 'visit': 103, 'channel!': 104, ';)\\ufeff': 105, 'look': 106, 'at': 107, 'i': 108, 'make': 109, 'minecraft': 110, 'pe': 111, 'lets': 112, 'play': 113, 'https://www.tsu.co/KodysMan': 114, 'plz': 115, '^^\\ufeff': 116, 'subscribe': 117, 'comment\\ufeff': 118, 'out!': 119, \"I'm\": 120, 'kyle.': 121, 'rap': 122, 'so': 123, 'yeah': 124, 'If': 125, 'get': 126, '300': 127, 'subscribers': 128, 'tomorrow': 129, \"I'll\": 130, 'do': 131, 'epic': 132, 'Hunger': 133, 'Games': 134, 'Video!': 135, '2': 136, 'shit?\\ufeff': 137, 'Enough': 138, 'whole': 139, '\"how': 140, 'two': 141, \"there's\": 142, 'only': 143, '7': 144, 'million': 145, 'planet\"': 146, 'it.': 147, \"You're\": 148, 'joking.': 149, \"It's\": 150, 'not': 151, 'funny': 152, 'anymore.\\ufeff': 153, 'Came': 154, 'here': 155, 'views,': 156, 'goodbye.\\ufeff': 157, 'You': 158, 'know': 159, 'sucks': 160, 'dick': 161, 'when': 162, 'need': 163, 'use': 164, 'google': 165, 'translate': 166, 'what': 167, 'fuck': 168, 'its': 169, 'saying!\\ufeff': 170, 'found': 171, 'out': 172, 'now\\ufeff': 173, 'think': 174, 'he': 175, 'was': 176, 'drunk': 177, 'during': 178, ':)': 179, 'x)\\ufeff': 180, 'hey': 181, 'again': 182, 'guys': 183, 'wouldnt': 184, 'mind': 185, 'chacking': 186, 'give': 187, 'it': 188, 'and': 189, 'il': 190, 'giver': 191, 'your': 192, 'vids': 193, 'like\\ufeff': 194, 'http://ubuntuone.com/40beUutVu2ZKxK4uTgPZ8K\\ufeff': 195, 'More...': 196, 'http://www.sunfrogshirts.com/Sunglass-World.html?24398\\ufeff': 197, 'reminds': 198, 'https://soundcloud.com/popaegis/wrenn-almond-eyes\\ufeff': 199, 'please': 200, 'throw': 201, 'sub': 202, 'channel\\ufeff': 203, 'PSY': 204, 'GOT': 205, 'LOTS': 206, 'OF': 207, 'MONEY': 208, 'FROM': 209, 'YOUTUBE': 210, 'THAT': 211, 'HE': 212, 'BILLION': 213, 'VIEWS': 214, 'THIS': 215, 'IS': 216, 'THE': 217, 'MOST': 218, 'IN': 219, 'WORLD': 220, ':D\\ufeff': 221, 'OMG': 222, 'oldspice': 223, 'spraytan': 224, 'party': 225, 'commercial': 226, \"omg....i'm\": 227, 'sitting': 228, '\"NO': 229, \"isn't\": 230, 'real': 231, 'thing': 232, 'is': 233, 'it?': 234, 'OMG\"': 235, 'https://www.facebook.com/nicushorbboy': 236, 'add': 237, 'mee': 238, '&lt;3': 239, '&lt;3\\ufeff': 240, 'Have': 241, 'tried': 242, 'new': 243, 'social': 244, 'network': 245, 'TSU?': 246, 'This': 247, 'has': 248, 'special': 249, 'thing.You': 250, 'can': 251, 'posts': 252, 'as': 253, 'well': 254, 'fb': 255, 'twitter': 256, 'even': 257, \"to'll\": 258, 'paid': 259, 'registr': 260, 'here:': 261, 'https://www.tsu.co/WORLDWIDE_LIFE\\ufeff': 262, 'psy=korean\\ufeff': 263, 'Hey': 264, 'come': 265, 'us': 266, 'were': 267, 'youtube': 268, 'let': 269, \"don't\": 270, 'forget': 271, 'thanks.\\ufeff': 272, 'raw': 273, 'talent,': 274, 'lyrics,': 275, 'straight': 276, 'hip': 277, 'hop': 278, 'Everyone': 279, 'newest': 280, 'sound': 281, 'Dizzy': 282, 'X': 283, 'Got': 284, 'Juice': 285, '(Prod': 286, 'by.': 287, 'Drugs': 288, 'Model': 289, 'Citizen)': 290, 'COMMENT': 291, 'TELL': 292, 'WHAT': 293, 'YOU': 294, 'THINK': 295, 'DONT': 296, 'BE': 297, 'LAZY!!!!': 298, '1/7': 299, 'Prophetz\\ufeff': 300, 'https://www.indiegogo.com/projects/cleaning-the-pan--2': 301, 'halp': 302, 'project\\ufeff': 303, 'Music': 304, 'Videos!': 305, 'Fuego': 306, 'U': 307, 'LA': 308, 'Remix': 309, 'hyperurl.co/k6a5xt\\ufeff': 310, 'me\\ufeff': 311, 'WAT': 312, 'DA': 313, 'FUCK': 314, 'VIEWED': 315, 'VIDEO': 316, 'YOUTUBE!\\ufeff': 317, 'Still': 318, 'watching': 319, 'years': 320, 'later?': 321, 'how': 322, '2,127,322,484': 323, 'there': 324, 'are': 325, 'people': 326, 'earth?\\ufeff': 327, 'Wow': 328, '23': 329, 'min': 330, 'ago\\ufeff': 331, 'Mix': 332, 'GANGNAM': 333, 'STYLE': 334, '(강남스타일)': 335, 'M/V:': 336, 'M/V\\ufeff': 337, 'Like': 338, 'getting': 339, 'Gift': 340, 'cards..but': 341, 'hate': 342, 'spending': 343, 'cash....': 344, 'Try': 345, 'Juno': 346, 'Wallet': 347, '!!!': 348, 'At': 349, 'earn': 350, 'money': 351, 'gift': 352, 'cards': 353, 'such': 354, ';': 355, 'Nike,': 356, 'Gamestop,': 357, 'Amazon': 358, ',': 359, 'Ebay': 360, 'Etc': 361, '&amp;': 362, 'easy': 363, 'Earn': 364, 'doing': 365, 'simple': 366, 'task': 367, 'videos..downloading': 368, 'apps': 369, 'inviting': 370, 'friends': 371, 'join...its': 372, 'free': 373, 'signup': 374, 'Sign': 375, 'up': 376, 'today': 377, 'promo': 378, 'code': 379, 'BD3721315\\ufeff': 380, 'now': 381, 'why': 382, 'in': 383, '2014\\ufeff': 384, 'http://www.twitch.tv/zxlightsoutxz\\ufeff': 385, 'Made': 386, 'china....\\ufeff': 387, 'plz.': 388, 'mine': 389, 'craft': 390, 'videos.': 391, \"Let's\": 392, 'shoot': 393, '20': 394, 'subs\\ufeff': 395, '1': 396, 'dislikes!EPIC': 397, 'FAIL(ready': 398, 'fanboys)\\ufeff': 399}\n"
          ]
        }
      ]
    },
    {
      "cell_type": "code",
      "source": [
        "# Apply tokenization and encoding to dataset.\n",
        "token_text = tokenize_and_encode(train_text, word_to_id)\n",
        "\n",
        "# Pad sequences to the same length for batch processing.\n",
        "def pad_sequences(sequences, max_length, pad_value=0):\n",
        "  padded_sequences = []\n",
        "  for seq in sequences:\n",
        "    if len(seq) < max_length:\n",
        "      padded_seq = seq + [pad_value] * (max_length - len(seq))\n",
        "    else:\n",
        "      padded_seq = seq[:max_length]\n",
        "    padded_sequences.append(padded_seq)\n",
        "  return padded_sequences\n",
        "\n",
        "# Set a maximum sequence length.\n",
        "max_length = 70\n",
        "\n",
        "#Tokenize the training, validation, and test sequences\n",
        "train_sequences = pad_sequences(token_text, max_length, pad_value=word_to_id[PAD_TOKEN])\n",
        "val_sequences = pad_sequences(tokenize_and_encode(val_text, word_to_id), max_length, pad_value=word_to_id[PAD_TOKEN])\n",
        "test_sequences = pad_sequences(tokenize_and_encode(test_text, word_to_id), max_length, pad_value=word_to_id[PAD_TOKEN])\n",
        "\n",
        "# Convert sequences and labels to PyTorch tensors.\n",
        "train_sequences = torch.tensor(train_sequences, dtype=torch.long)\n",
        "#train_labels = torch.tensor(train_labels, dtype=torch.long)\n",
        "val_sequences = torch.tensor(val_sequences, dtype=torch.long)\n",
        "val_labels = torch.tensor(val_labels, dtype=torch.long)\n",
        "test_sequences = torch.tensor(test_sequences, dtype=torch.long)\n",
        "test_labels = torch.tensor(test_labels, dtype=torch.long)"
      ],
      "metadata": {
        "id": "oejGioFMNGrC"
      },
      "execution_count": 104,
      "outputs": []
    },
    {
      "cell_type": "markdown",
      "source": [
        "##Viterbi algorithm and training"
      ],
      "metadata": {
        "id": "hn3YxfqS-j5k"
      }
    },
    {
      "cell_type": "code",
      "source": [
        "# Define transitions.\n",
        "A = nn.Parameter(nn.functional.log_softmax(torch.randn(n_states,n_states), dim=0)).float()\n",
        "\n",
        "# Define emissions.\n",
        "b = nn.Parameter(nn.functional.log_softmax(torch.randn(n_states,n_features), dim=0)).float()\n",
        "\n",
        "# Define initial state probabilities; state priors.\n",
        "pi = nn.Parameter(nn.functional.log_softmax(torch.randn(n_states), dim=0)).float()"
      ],
      "metadata": {
        "id": "H4haQXFpXljd"
      },
      "execution_count": 105,
      "outputs": []
    },
    {
      "cell_type": "code",
      "source": [
        "def viterbi_decoding(observed_sequences, A, b, pi):\n",
        "\n",
        "  batch_size, seq_len = observed_sequences.shape\n",
        "  n_states = A.shape[0]\n",
        "\n",
        "  # Initialize omega and psi.\n",
        "  omega = torch.zeros(batch_size, seq_len, n_states).float()\n",
        "  psi = torch.zeros(batch_size, seq_len, n_states).long()\n",
        "\n",
        "  # Enable CUDA if available.\n",
        "  device = torch.device(\"cuda\" if torch.cuda.is_available() else \"cpu\")\n",
        "  observed_sequences = observed_sequences.to(device)\n",
        "  A = A.to(device)\n",
        "  b = b.to(device)\n",
        "  pi = pi.to(device)\n",
        "  omega = omega.to(device)\n",
        "  psi = psi.to(device)\n",
        "\n",
        "  # Initialize the omega value.\n",
        "  omega[:, 0, :] = pi + b[:, observed_sequences[:, 0]].T\n",
        "\n",
        "  # Recursion.\n",
        "  for t in range(1, seq_len):\n",
        "    omega_tminus1 = omega[:, t-1, :].unsqueeze(2)\n",
        "    log_transition = omega_tminus1 + A.unsqueeze(0)\n",
        "\n",
        "    # Get max probabilities and their indices.\n",
        "    max_log_probs, psi[:, t, :] = log_transition.max(dim=1)\n",
        "    omega[:, t, :] = max_log_probs + b[:, observed_sequences[:, t]].T\n",
        "\n",
        "  # Backtrace to find the most probable states.\n",
        "  best_paths = torch.zeros(batch_size, seq_len).long()\n",
        "  best_paths = best_paths.to(device)\n",
        "  best_paths[:, -1] = omega[:, -1, :].argmax(dim=1)\n",
        "\n",
        "  for t in range(seq_len - 2, -1, -1):\n",
        "    best_paths[:, t] = psi[torch.arange(batch_size), t + 1, best_paths[:, t + 1]]\n",
        "\n",
        "  # The log probability of the best paths can be accessed from the omega matrix.\n",
        "  log_prob = omega[torch.arange(batch_size), -1, best_paths[:, -1]]\n",
        "\n",
        "  return best_paths, log_prob"
      ],
      "metadata": {
        "id": "SUAMszGoUC0y"
      },
      "execution_count": 106,
      "outputs": []
    },
    {
      "cell_type": "code",
      "source": [
        "epochs = 40\n",
        "batch_size = 32\n",
        "lr = 0.001\n",
        "\n",
        "def train_hmm(observed_sequences, A, b, pi, n_epochs, lr, batch_size):\n",
        "  # Initialize Adam optimizer and gradient clip in case the gradient becomes too large.\n",
        "  optimizer = optim.Adam([A, b, pi], lr=lr)\n",
        "\n",
        "  # Calculate number of batches.\n",
        "  batches = (len(observed_sequences) + batch_size - 1) // b\n",
        "\n",
        "  # Initialize total loss function and enable gradient calculations.\n",
        "  for epoch in range(n_epochs):\n",
        "    total_loss = 0\n",
        "    optimizer.zero_grad()\n",
        "\n",
        "    for i in range(0, len(observed_sequences), batch_size):\n",
        "      batch = observed_sequences[i:i + batch_size]\n",
        "\n",
        "      # Perform Viterbi decoding and compute negative log-likelihood loss.\n",
        "      # We only need the log probability for the purposes of training.\n",
        "      _, log_probs = viterbi_decoding(batch, A, b, pi)\n",
        "      loss = -log_probs.sum()\n",
        "\n",
        "      # Backpropagation.\n",
        "      loss.backward()\n",
        "      # Add gradient clipping in the case the gradient becomes too large.\n",
        "      nn.utils.clip_grad_norm_([A, b, pi], max_norm=1.0)\n",
        "      optimizer.step()\n",
        "\n",
        "      # Add the calculated loss to the total loss.\n",
        "      total_loss += loss.item()\n",
        "\n",
        "    print(f\"Epoch {epoch + 1}/{n_epochs}, Loss: {total_loss:.4f}\")"
      ],
      "metadata": {
        "id": "TF0ZMFzTig9S"
      },
      "execution_count": 107,
      "outputs": []
    },
    {
      "cell_type": "code",
      "source": [
        "train_hmm(train_sequences, A, b, pi, epochs, lr, batch_size)"
      ],
      "metadata": {
        "colab": {
          "base_uri": "https://localhost:8080/"
        },
        "id": "r-H7ic4_UJSp",
        "outputId": "a20654cf-a004-42ca-beee-632e3f795f81"
      },
      "execution_count": 108,
      "outputs": [
        {
          "output_type": "stream",
          "name": "stdout",
          "text": [
            "Epoch 1/40, Loss: 19841.5808\n",
            "Epoch 2/40, Loss: 19495.7991\n",
            "Epoch 3/40, Loss: 19150.2588\n",
            "Epoch 4/40, Loss: 18804.6260\n",
            "Epoch 5/40, Loss: 18458.9261\n",
            "Epoch 6/40, Loss: 18113.1553\n",
            "Epoch 7/40, Loss: 17767.3303\n",
            "Epoch 8/40, Loss: 17421.4789\n",
            "Epoch 9/40, Loss: 17075.5684\n",
            "Epoch 10/40, Loss: 16729.6484\n",
            "Epoch 11/40, Loss: 16383.6823\n",
            "Epoch 12/40, Loss: 16037.7001\n",
            "Epoch 13/40, Loss: 15691.7048\n",
            "Epoch 14/40, Loss: 15345.6985\n",
            "Epoch 15/40, Loss: 14999.6786\n",
            "Epoch 16/40, Loss: 14653.6533\n",
            "Epoch 17/40, Loss: 14307.6311\n",
            "Epoch 18/40, Loss: 13961.5824\n",
            "Epoch 19/40, Loss: 13615.5441\n",
            "Epoch 20/40, Loss: 13269.4987\n",
            "Epoch 21/40, Loss: 12923.4370\n",
            "Epoch 22/40, Loss: 12577.3649\n",
            "Epoch 23/40, Loss: 12231.2617\n",
            "Epoch 24/40, Loss: 11885.1487\n",
            "Epoch 25/40, Loss: 11539.0302\n",
            "Epoch 26/40, Loss: 11192.9114\n",
            "Epoch 27/40, Loss: 10846.7936\n",
            "Epoch 28/40, Loss: 10500.6763\n",
            "Epoch 29/40, Loss: 10154.5524\n",
            "Epoch 30/40, Loss: 9808.4342\n",
            "Epoch 31/40, Loss: 9462.3173\n",
            "Epoch 32/40, Loss: 9116.1972\n",
            "Epoch 33/40, Loss: 8770.0804\n",
            "Epoch 34/40, Loss: 8423.9577\n",
            "Epoch 35/40, Loss: 8077.8427\n",
            "Epoch 36/40, Loss: 7731.7228\n",
            "Epoch 37/40, Loss: 7385.6032\n",
            "Epoch 38/40, Loss: 7039.4818\n",
            "Epoch 39/40, Loss: 6693.3627\n",
            "Epoch 40/40, Loss: 6347.2427\n"
          ]
        }
      ]
    },
    {
      "cell_type": "markdown",
      "source": [
        "## Evaluating the data with inference, ROC curve, and confusion matrix"
      ],
      "metadata": {
        "id": "lV74l5zj5eZg"
      }
    },
    {
      "cell_type": "code",
      "source": [
        "def predict_labels(observed_sequences, labels, A, b, pi):\n",
        "# For inference purposes, we only need the best paths from our Viterbi decoding function.\n",
        "  pred, _ = viterbi_decoding(observed_sequences, A, b, pi)\n",
        "  states = pred[:,-1]\n",
        "  print(states)\n",
        "  correct = (states == labels).sum().item()\n",
        "  total = labels.numel()\n",
        "  accuracy = correct / total\n",
        "  return accuracy, states"
      ],
      "metadata": {
        "id": "JF5i51mQ0uYn"
      },
      "execution_count": 109,
      "outputs": []
    },
    {
      "cell_type": "code",
      "source": [
        "val_results, _ = predict_labels(val_sequences, val_labels, A, b, pi)\n",
        "print(val_labels)\n",
        "print(val_results)"
      ],
      "metadata": {
        "colab": {
          "base_uri": "https://localhost:8080/"
        },
        "id": "hhtSem5PLTIc",
        "outputId": "9c7dbfb8-5d4e-4155-9893-5f21380b94a5"
      },
      "execution_count": 110,
      "outputs": [
        {
          "output_type": "stream",
          "name": "stdout",
          "text": [
            "tensor([0, 0, 0, 0, 0, 0, 0, 0, 0, 0, 0, 0, 0, 0, 0, 0, 0, 0, 0, 0, 0, 0, 0, 0,\n",
            "        0, 0, 0, 0, 0, 0, 0, 0, 0, 0, 0])\n",
            "tensor([1, 1, 1, 1, 1, 1, 1, 0, 0, 0, 0, 0, 1, 1, 1, 1, 1, 0, 1, 1, 1, 1, 0, 0,\n",
            "        1, 1, 1, 0, 0, 0, 1, 0, 0, 1, 0])\n",
            "0.4\n"
          ]
        }
      ]
    },
    {
      "cell_type": "code",
      "source": [
        "# Define true labels and predicted labels.\n",
        "true = test_labels.numpy()\n",
        "_, pred = predict_labels(test_sequences, test_labels, A, b, pi)\n",
        "pred = pred.numpy()"
      ],
      "metadata": {
        "colab": {
          "base_uri": "https://localhost:8080/"
        },
        "id": "iQ-cIjWYMg-5",
        "outputId": "52b3ce38-5e25-4c5b-d989-e73eb319eb19"
      },
      "execution_count": 111,
      "outputs": [
        {
          "output_type": "stream",
          "name": "stdout",
          "text": [
            "tensor([0, 0, 0, 0, 0, 0, 0, 0, 0, 0, 0, 0, 0, 0, 0, 0, 0, 0, 0, 0, 0, 0, 0, 0,\n",
            "        0, 0, 0, 0, 0, 0, 0, 0, 0, 0, 0, 0])\n"
          ]
        }
      ]
    },
    {
      "cell_type": "code",
      "source": [
        "#C Calculate confusion matrix of the dataset on the test data.\n",
        "TP = ((pred == 1) & (true == 1)).sum().item()\n",
        "TN = ((pred == 0) & (true == 0)).sum().item()\n",
        "FP = ((pred == 1) & (true == 0)).sum().item()\n",
        "FN = ((pred == 0) & (true == 1)).sum().item()\n",
        "\n",
        "conf_matrix = torch.tensor([[TN, FP], [FN, TP]])\n",
        "print(conf_matrix)"
      ],
      "metadata": {
        "colab": {
          "base_uri": "https://localhost:8080/"
        },
        "id": "tlqzeJOgMeP2",
        "outputId": "66c966df-1c98-48e9-ab7a-cd2ee868b74c"
      },
      "execution_count": 112,
      "outputs": [
        {
          "output_type": "stream",
          "name": "stdout",
          "text": [
            "tensor([[18,  0],\n",
            "        [18,  0]])\n"
          ]
        }
      ]
    },
    {
      "cell_type": "code",
      "source": [
        "import matplotlib.pyplot as plt\n",
        "\n",
        "# Sort by predicted scores in descending order.\n",
        "sorted_indices = np.argsort(-pred)\n",
        "true = true[sorted_indices]\n",
        "pred = pred[sorted_indices]\n",
        "\n",
        "thresh = np.unique(pred)\n",
        "tpr = []  # True positive rate.\n",
        "fpr = []  # False positive rate.\n",
        "\n",
        "# Total positives and negatives.\n",
        "P = sum(true)\n",
        "N = len(true) - P\n",
        "\n",
        "# Iterate through thresholds.\n",
        "for t in thresh:\n",
        "  # Classify predictions as positive or negative.\n",
        "  lab = (pred >= t)\n",
        "\n",
        "  TP = np.sum((lab == 1) & (true == 1))\n",
        "  FP = np.sum((lab == 1) & (true == 0))\n",
        "  FN = np.sum((lab == 0) & (true == 1))\n",
        "  TN = np.sum((lab == 0) & (true == 0))\n",
        "\n",
        "  # Calculate TPR and FPR.\n",
        "  tpr.append(TP/P)\n",
        "  fpr.append(FP/N)\n",
        "\n",
        "auc = np.trapz(tpr, fpr)\n",
        "print(auc)\n",
        "\n",
        "plt.figure()\n",
        "plt.plot(fpr, tpr, marker='o', label=\"ROC Curve\")\n",
        "plt.plot([0, 1], [0, 1], linestyle='--', color='gray', label=\"Random Classifier\")\n",
        "plt.xlabel(\"False Positive Rate (FPR)\")\n",
        "plt.ylabel(\"True Positive Rate (TPR)\")\n",
        "plt.title(\"ROC Curve\")\n",
        "plt.legend(loc=\"lower right\")\n",
        "plt.show()"
      ],
      "metadata": {
        "colab": {
          "base_uri": "https://localhost:8080/",
          "height": 0
        },
        "id": "SP8jL3w15dWN",
        "outputId": "02e426d8-608a-44d2-b000-3cfc6b1f1a4b"
      },
      "execution_count": 113,
      "outputs": [
        {
          "output_type": "stream",
          "name": "stdout",
          "text": [
            "0.0\n"
          ]
        },
        {
          "output_type": "display_data",
          "data": {
            "text/plain": [
              "<Figure size 640x480 with 1 Axes>"
            ],
            "image/png": "[encoded data removed]"
          },
          "metadata": {}
        }
      ]
    },
    {
      "cell_type": "markdown",
      "source": [
        "# Katy Perry"
      ],
      "metadata": {
        "id": "UvkHXNBxL6bT"
      }
    },
    {
      "cell_type": "markdown",
      "source": [
        "## Data preprocessing/tokenization"
      ],
      "metadata": {
        "id": "cCwE6MiOL6bT"
      }
    },
    {
      "cell_type": "code",
      "source": [
        "# Number of states (ham, spam) and features.\n",
        "n_states = 2\n",
        "\n",
        "# Maximum number of words that will be defined its sown token.\n",
        "n_features = 400\n",
        "\n",
        "# Load the dataset.\n",
        "df = pd.read_csv(\"Youtube02-KatyPerry.csv\", header=None, names=[\"ID\", \"Author\", \"Date\", \"Message\", \"Label\"])"
      ],
      "metadata": {
        "id": "4cZtDYEzL6bU"
      },
      "execution_count": 114,
      "outputs": []
    },
    {
      "cell_type": "code",
      "source": [
        "# Map labels ham/spam to binary values.\n",
        "df['Label'] = df['Label'].map({'0': 0, '1': 1})\n",
        "\n",
        "# Train/Val/Test split: 80%/10%/10%\n",
        "train_data = df.sample(n=int((df.shape[0])*0.8), random_state=10)\n",
        "rem = df.drop(train_data.index)\n",
        "val_data = rem.sample(n=int((rem.shape[0])*0.5), random_state=10)\n",
        "test_data = rem.drop(val_data.index)\n",
        "\n",
        "# Extract text data and labels.\n",
        "train_text = train_data['Message'].tolist()\n",
        "train_labels = train_data['Label'].tolist()\n",
        "val_text = val_data['Message'].tolist()\n",
        "val_labels = val_data['Label'].tolist()\n",
        "test_text = test_data['Message'].tolist()\n",
        "test_labels = test_data['Label'].tolist()\n",
        "\n",
        "#train_text = train_text[:500]\n",
        "#train_labels = train_labels[:500]\n",
        "#val_text = val_text[:100]\n",
        "#val_labels = val_labels[:100]\n",
        "#test_text = test_text[:100]\n",
        "#test_labels = test_labels[:100]\n",
        "\n",
        "# Initialize a vocabulary and assign each unique word an integer ID.\n",
        "word_to_id = defaultdict(lambda: len(word_to_id))\n",
        "\n",
        "# Special tokens for padding and unknown words\n",
        "PAD_TOKEN = \"<PAD>\"\n",
        "UNK_TOKEN = \"<UNK>\"\n",
        "word_to_id[PAD_TOKEN] = 0\n",
        "word_to_id[UNK_TOKEN] = 1\n",
        "\n",
        "# Function to tokenize and encode each message.\n",
        "def tokenize_and_encode(msgs, word_to_id):\n",
        "    encoded_sequences = []\n",
        "    for msg in msgs:\n",
        "        tokens = msg.split()\n",
        "        encoded_msg = [word_to_id[token] if token in word_to_id else word_to_id[UNK_TOKEN]\n",
        "                           for token in tokens]\n",
        "        encoded_sequences.append(encoded_msg)\n",
        "    return encoded_sequences"
      ],
      "metadata": {
        "id": "Q-9WJP7CL6bU"
      },
      "execution_count": 115,
      "outputs": []
    },
    {
      "cell_type": "code",
      "source": [
        "# Assign each string in the dataset a token\n",
        "text_data_shuffle = train_data['Message'].tolist()\n",
        "random.shuffle(text_data_shuffle)\n",
        "for message in text_data_shuffle:\n",
        "  tokens = message.split() # Split the strings in each message to process every word separately.\n",
        "  for token in tokens:\n",
        "    if len(word_to_id) >= n_features: # Cap the dictionary length to the defined number of features to prevent overfitting.\n",
        "      break\n",
        "    _ = word_to_id[token] # If a word isn't already assigned a token, give it a token.\n",
        "  if len(word_to_id) >= n_features:\n",
        "    break"
      ],
      "metadata": {
        "id": "sfp7wemeL6bU"
      },
      "execution_count": 116,
      "outputs": []
    },
    {
      "cell_type": "code",
      "source": [
        "print(\"Vocabulary:\", dict(word_to_id))"
      ],
      "metadata": {
        "colab": {
          "base_uri": "https://localhost:8080/"
        },
        "outputId": "652aafb3-8642-421e-a196-011d7802de06",
        "id": "UQFxeXqlL6bU"
      },
      "execution_count": 117,
      "outputs": [
        {
          "output_type": "stream",
          "name": "stdout",
          "text": [
            "Vocabulary: {'<PAD>': 0, '<UNK>': 1, 'https://www.facebook.com/pages/Hiphop-Express/704682339621282': 2, 'like': 3, 'this': 4, 'page': 5, 'yo\\ufeff': 6, 'please': 7, 'look': 8, 'up': 9, 'DHG': 10, 'SONGS': 11, 'is': 12, 'my': 13, 'playlist': 14, 'with': 15, 'a': 16, 'bunch': 17, 'of': 18, 'amazing': 19, 'songs': 20, '\\ufeff': 21, 'Hii': 22, 'youtube\\ufeff': 23, 'why': 24, 'the': 25, 'elephant': 26, 'have': 27, 'broken': 28, 'horn\\ufeff': 29, 'I': 30, 'love': 31, 'song,': 32, 'it´s': 33, 'for': 34, 'empowering': 35, 'every': 36, 'woman': 37, ':)': 38, '\"you´re': 39, 'gonna': 40, 'hear': 41, 'me': 42, 'roar\"': 43, ';)\\ufeff': 44, 'Follow': 45, 'watch': 46, 'videos': 47, ':)\\ufeff': 48, 'LOVE': 49, 'YOU!!!': 50, 'Because': 51, 'u': 52, 'make': 53, 'smile': 54, 'when': 55, 'im': 56, 'sad': 57, 'you': 58, 'cheer': 59, 'your': 60, 'beautiful': 61, '(:': 62, '&lt;3\\ufeff': 63, 'Is': 64, 'that': 65, 'tiger': 66, 'called': 67, \"'Katty\": 68, \"Purry'?\\ufeff\": 69, 'Katy': 70, 'Perry': 71, \"can't\": 72, 'sing': 73, 'shit.': 74, 'All': 75, 'i': 76, 'it': 77, 'autotune.\\ufeff': 78, 'check': 79, 'out': 80, 'mah': 81, 'girl': 82, 'duh': 83, 'shit': 84, \"I've\": 85, 'figured': 86, 'dislike': 87, 'song:': 88, \"it's\": 89, 'supposed': 90, 'to': 91, 'be': 92, 'power': 93, 'ballad': 94, 'right?': 95, 'Something': 96, \"that's\": 97, 'uplifting': 98, 'and': 99, 'motivating': 100, 'by': 101, 'end.': 102, 'However,': 103, 'final': 104, 'chorus': 105, 'has': 106, 'NO': 107, 'extra': 108, 'UMPH': 109, 'at': 110, 'end': 111, 'actually': 112, 'sounds': 113, 'just': 114, 'first': 115, 'one.': 116, 'Instead': 117, 'crescendo-ing': 118, 'into': 119, 'powerful': 120, 'finish,': 121, '\"Roar\"': 122, 'says': 123, 'on': 124, 'same': 125, 'wavelength.': 126, 'It': 127, 'falls': 128, 'flat.\\ufeff': 129, 'In': 130, 'beginning': 131, 'she': 132, 'was': 133, 'scared': 134, 'off': 135, 'everything': 136, 'next': 137, 'thing': 138, 'know': 139, 'in': 140, 'leopard': 141, 'bikini!\\ufeff': 142, 'segue': 143, 'ha': 144, 'https://www.facebook.com/marcos.sousa4?fref=ts\\ufeff': 145, 'This': 146, 'song': 147, 'most': 148, 'boring,': 149, 'asinine': 150, 'ever': 151, 'heard.': 152, 'Coming': 153, 'from': 154, 'guy': 155, 'who': 156, 'liked': 157, '\"Teenage': 158, 'Dream\"': 159, '(the': 160, 'song).': 161, 'Ever': 162, 'since': 163, \"Perry's\": 164, 'divorce': 165, 'wave': 166, 'after': 167, 'shitty': 168, 'but': 169, 'successful': 170, 'songs...': 171, 'For': 172, 'those': 173, 'saying': 174, '\"This': 175, 'pop': 176, 'music\".': 177, 'Stick': 178, 'ass.': 179, 'Silly': 180, 'Putty.': 181, '\"....because': 182, 'AM': 183, 'champion...and': 184, \"you're\": 185, 'roar!\"': 186, 'Today': 187, 'own': 188, 'champion': 189, 'Creator': 190, 'doing': 191, 'positive': 192, 'world': 193, 'blessing': 194, 'healing': 195, 'all': 196, 'around': 197, 'creating': 198, 'success': 199, 'voice': 200, 'an': 201, 'Angel\\ufeff': 202, 'NOKIA': 203, 'spotted\\ufeff': 204, 'FREe': 205, 'ITunes': 206, 'Gift': 207, 'card': 208, 'http://shhort.com/a?r=x6J4gBrne\\ufeff': 209, 'http://shhort.com/a?r=Jt2ufxHxc\\ufeff': 210, 'Subscribe': 211, 'pleaaaase': 212, 'instagram': 213, 'account': 214, ',': 215, \"i'll\": 216, 'subscribe': 217, 'back': 218, '♥': 219, 'http://instagram.com/cyrine_ghorbel\\ufeff': 220, 'Hey': 221, 'Guys,': 222, 'tend': 223, 'skip': 224, 'these': 225, 'comments,': 226, 'Take': 227, 'first.': 228, 'am': 229, 'Free': 230, 'Fire,': 231, 'A': 232, 'Big': 233, 'Room,': 234, 'Progressive': 235, 'House,': 236, 'Deep': 237, 'Dubstep': 238, '&amp;': 239, 'Chillstep': 240, 'Producer': 241, 'small': 242, 'town': 243, 'Missouri.': 244, 'Down': 245, 'here,': 246, 'no': 247, 'support': 248, 'community,': 249, 'really': 250, 'ask': 251, 'some': 252, 'critiquing,': 253, 'Support,': 254, 'Views.': 255, 'My': 256, 'Music': 257, 'gotten': 258, 'much': 259, 'better': 260, 'then': 261, 'what': 262, '10': 263, 'months': 264, 'ago,': 265, 'promise': 266, 'new': 267, 'content': 268, 'should': 269, 'more': 270, 'satisfying.': 271, 'Soon': 272, 'able': 273, 'advertise': 274, 'wont': 275, 'pester': 276, 'guys': 277, 'anymore.': 278, 'So': 279, 'gimme': 280, 'chance': 281, 'music,': 282, 'thanks': 283, 'god': 284, 'bless.\\ufeff': 285, '-': 286, 'Roar': 287, '(Official):': 288, 'http://youtu.be/CevxZvSJLk8\\ufeff': 289, 'curti?': 290, 'click': 291, 'here': 292, '?': 293, 'https://www.facebook.com/demiilovatofas?ref=hl': 294, 'https://www.facebook.com/pages/Frases-Secretas/448800865296855?ref=hl\\ufeff': 295, 'The': 296, 'good': 297, 'job': 298, 'their': 299, 'way': 300, 'can': 301, 'describe': 302, 'channel': 303, \"I'm\": 304, 'trying': 305, 'get': 306, 'as': 307, 'many': 308, 'comments': 309, 'Skyburst': 310, 'lights': 311, 'cancer': 312, 'famous': 313, 'please\\ufeff': 314, 'means': 315, 'so': 316, 'thank': 317, 'soooooooooooooooooooooooooooooooooooooooo': 318, 'much:-)': 319, 'Xxx\\ufeff': 320, 'Hi': 321, 'everyone!': 322, 'dream': 323, 'passionate': 324, 'sex': 325, 'Perry.': 326, 'Some': 327, 'people': 328, 'do': 329, 'not': 330, 'believe': 331, 'me…but': 332, 'maybe': 333, 'will.': 334, 'Sex': 335, 'giant': 336, 'part': 337, 'life': 338, 'pushes': 339, 'person!': 340, 'Please': 341, 'give': 342, 'giving': 343, 'thumbs': 344, 'up!': 345, 'If': 346, 'ambition': 347, 'SUBSCRIBE!\\ufeff': 348, 'big': 349, 'fan': 350, 'you\\ufeff': 351, '00': 352, ':': 353, '39': 354, 'Im': 355, 'pretty': 356, 'sure': 357, 'wanted': 358, 'hug\\ufeff': 359, 'Glad': 360, 'only': 361, 'one': 362, 'knows': 363, 'its': 364, \"katheryn's\": 365, 'birthday': 366, 'today': 367, 'happy': 368, 'katy...and': 369, 'sister.': 370, '(they': 371, 'seriously': 372, 'birthday...)\\ufeff': 373, 'Hello!': 374, 'Marian,': 375, 'singer': 376, 'Venezuela!': 377, 'boy-girl': 378, 'band': 379, 'named': 380, 'cubik,': 381, 'now': 382, 'singing': 383, \"'cause\": 384, 'play': 385, 'pop-rock': 386, 'songs.': 387, 'would': 388, 'mean': 389, 'lot': 390, 'if': 391, 'could': 392, 'music': 393, 'video!!': 394, 'like,': 395, 'it!': 396, 'XOXO': 397, 'THANKS!!': 398, 'PS:': 399}\n"
          ]
        }
      ]
    },
    {
      "cell_type": "code",
      "source": [
        "# Apply tokenization and encoding to dataset.\n",
        "token_text = tokenize_and_encode(train_text, word_to_id)\n",
        "\n",
        "# Pad sequences to the same length for batch processing.\n",
        "def pad_sequences(sequences, max_length, pad_value=0):\n",
        "  padded_sequences = []\n",
        "  for seq in sequences:\n",
        "    if len(seq) < max_length:\n",
        "      padded_seq = seq + [pad_value] * (max_length - len(seq))\n",
        "    else:\n",
        "      padded_seq = seq[:max_length]\n",
        "    padded_sequences.append(padded_seq)\n",
        "  return padded_sequences\n",
        "\n",
        "# Set a maximum sequence length.\n",
        "max_length = 70\n",
        "\n",
        "#Tokenize the training, validation, and test sequences\n",
        "train_sequences = pad_sequences(token_text, max_length, pad_value=word_to_id[PAD_TOKEN])\n",
        "val_sequences = pad_sequences(tokenize_and_encode(val_text, word_to_id), max_length, pad_value=word_to_id[PAD_TOKEN])\n",
        "test_sequences = pad_sequences(tokenize_and_encode(test_text, word_to_id), max_length, pad_value=word_to_id[PAD_TOKEN])\n",
        "\n",
        "# Convert sequences and labels to PyTorch tensors.\n",
        "train_sequences = torch.tensor(train_sequences, dtype=torch.long)\n",
        "#train_labels = torch.tensor(train_labels, dtype=torch.long)\n",
        "val_sequences = torch.tensor(val_sequences, dtype=torch.long)\n",
        "val_labels = torch.tensor(val_labels, dtype=torch.long)\n",
        "test_sequences = torch.tensor(test_sequences, dtype=torch.long)\n",
        "test_labels = torch.tensor(test_labels, dtype=torch.long)"
      ],
      "metadata": {
        "id": "0E2dDDBlL6bV"
      },
      "execution_count": 118,
      "outputs": []
    },
    {
      "cell_type": "markdown",
      "source": [
        "##Viterbi algorithm and training"
      ],
      "metadata": {
        "id": "aJ7dfZYTL6bV"
      }
    },
    {
      "cell_type": "code",
      "source": [
        "# Define transitions.\n",
        "A = nn.Parameter(nn.functional.log_softmax(torch.randn(n_states,n_states), dim=0)).float()\n",
        "\n",
        "# Define emissions.\n",
        "b = nn.Parameter(nn.functional.log_softmax(torch.randn(n_states,n_features), dim=0)).float()\n",
        "\n",
        "# Define initial state probabilities; state priors.\n",
        "pi = nn.Parameter(nn.functional.log_softmax(torch.randn(n_states), dim=0)).float()"
      ],
      "metadata": {
        "id": "5gTN71lWL6bV"
      },
      "execution_count": 119,
      "outputs": []
    },
    {
      "cell_type": "code",
      "source": [
        "def viterbi_decoding(observed_sequences, A, b, pi):\n",
        "\n",
        "  batch_size, seq_len = observed_sequences.shape\n",
        "  n_states = A.shape[0]\n",
        "\n",
        "  # Initialize omega and psi.\n",
        "  omega = torch.zeros(batch_size, seq_len, n_states).float()\n",
        "  psi = torch.zeros(batch_size, seq_len, n_states).long()\n",
        "\n",
        "  # Enable CUDA if available.\n",
        "  device = torch.device(\"cuda\" if torch.cuda.is_available() else \"cpu\")\n",
        "  observed_sequences = observed_sequences.to(device)\n",
        "  A = A.to(device)\n",
        "  b = b.to(device)\n",
        "  pi = pi.to(device)\n",
        "  omega = omega.to(device)\n",
        "  psi = psi.to(device)\n",
        "\n",
        "  # Initialize the omega value.\n",
        "  omega[:, 0, :] = pi + b[:, observed_sequences[:, 0]].T\n",
        "\n",
        "  # Recursion.\n",
        "  for t in range(1, seq_len):\n",
        "    omega_tminus1 = omega[:, t-1, :].unsqueeze(2)\n",
        "    log_transition = omega_tminus1 + A.unsqueeze(0)\n",
        "\n",
        "    # Get max probabilities and their indices.\n",
        "    max_log_probs, psi[:, t, :] = log_transition.max(dim=1)\n",
        "    omega[:, t, :] = max_log_probs + b[:, observed_sequences[:, t]].T\n",
        "\n",
        "  # Backtrace to find the most probable states.\n",
        "  best_paths = torch.zeros(batch_size, seq_len).long()\n",
        "  best_paths = best_paths.to(device)\n",
        "  best_paths[:, -1] = omega[:, -1, :].argmax(dim=1)\n",
        "\n",
        "  for t in range(seq_len - 2, -1, -1):\n",
        "    best_paths[:, t] = psi[torch.arange(batch_size), t + 1, best_paths[:, t + 1]]\n",
        "\n",
        "  # The log probability of the best paths can be accessed from the omega matrix.\n",
        "  log_prob = omega[torch.arange(batch_size), -1, best_paths[:, -1]]\n",
        "\n",
        "  return best_paths, log_prob"
      ],
      "metadata": {
        "id": "8mvZRPPgL6bV"
      },
      "execution_count": 120,
      "outputs": []
    },
    {
      "cell_type": "code",
      "source": [
        "epochs = 40\n",
        "batch_size = 32\n",
        "lr = 0.001\n",
        "\n",
        "def train_hmm(observed_sequences, A, b, pi, n_epochs, lr, batch_size):\n",
        "  # Initialize Adam optimizer and gradient clip in case the gradient becomes too large.\n",
        "  optimizer = optim.Adam([A, b, pi], lr=lr)\n",
        "\n",
        "  # Calculate number of batches.\n",
        "  batches = (len(observed_sequences) + batch_size - 1) // b\n",
        "\n",
        "  # Initialize total loss function and enable gradient calculations.\n",
        "  for epoch in range(n_epochs):\n",
        "    total_loss = 0\n",
        "    optimizer.zero_grad()\n",
        "\n",
        "    for i in range(0, len(observed_sequences), batch_size):\n",
        "      batch = observed_sequences[i:i + batch_size]\n",
        "\n",
        "      # Perform Viterbi decoding and compute negative log-likelihood loss.\n",
        "      # We only need the log probability for the purposes of training.\n",
        "      _, log_probs = viterbi_decoding(batch, A, b, pi)\n",
        "      loss = -log_probs.sum()\n",
        "\n",
        "      # Backpropagation.\n",
        "      loss.backward()\n",
        "      # Add gradient clipping in the case the gradient becomes too large.\n",
        "      nn.utils.clip_grad_norm_([A, b, pi], max_norm=1.0)\n",
        "      optimizer.step()\n",
        "\n",
        "      # Add the calculated loss to the total loss.\n",
        "      total_loss += loss.item()\n",
        "\n",
        "    print(f\"Epoch {epoch + 1}/{n_epochs}, Loss: {total_loss:.4f}\")"
      ],
      "metadata": {
        "id": "vwgcHqEgL6bX"
      },
      "execution_count": 121,
      "outputs": []
    },
    {
      "cell_type": "code",
      "source": [
        "train_hmm(train_sequences, A, b, pi, epochs, lr, batch_size)"
      ],
      "metadata": {
        "colab": {
          "base_uri": "https://localhost:8080/"
        },
        "outputId": "8550c104-4afe-4218-f94a-c9b7778356ee",
        "id": "6RMFGzJtL6bX"
      },
      "execution_count": 122,
      "outputs": [
        {
          "output_type": "stream",
          "name": "stdout",
          "text": [
            "Epoch 1/40, Loss: 12785.8491\n",
            "Epoch 2/40, Loss: 12440.2496\n",
            "Epoch 3/40, Loss: 12095.0161\n",
            "Epoch 4/40, Loss: 11749.8550\n",
            "Epoch 5/40, Loss: 11404.7275\n",
            "Epoch 6/40, Loss: 11059.6282\n",
            "Epoch 7/40, Loss: 10714.5506\n",
            "Epoch 8/40, Loss: 10369.4944\n",
            "Epoch 9/40, Loss: 10024.4535\n",
            "Epoch 10/40, Loss: 9679.4215\n",
            "Epoch 11/40, Loss: 9334.3937\n",
            "Epoch 12/40, Loss: 8989.3735\n",
            "Epoch 13/40, Loss: 8644.3498\n",
            "Epoch 14/40, Loss: 8299.3275\n",
            "Epoch 15/40, Loss: 7954.3190\n",
            "Epoch 16/40, Loss: 7609.3110\n",
            "Epoch 17/40, Loss: 7264.3107\n",
            "Epoch 18/40, Loss: 6919.3134\n",
            "Epoch 19/40, Loss: 6574.3209\n",
            "Epoch 20/40, Loss: 6229.3288\n",
            "Epoch 21/40, Loss: 5884.3263\n",
            "Epoch 22/40, Loss: 5539.3173\n",
            "Epoch 23/40, Loss: 5194.3115\n",
            "Epoch 24/40, Loss: 4849.3097\n",
            "Epoch 25/40, Loss: 4504.3089\n",
            "Epoch 26/40, Loss: 4159.3125\n",
            "Epoch 27/40, Loss: 3814.3100\n",
            "Epoch 28/40, Loss: 3469.2345\n",
            "Epoch 29/40, Loss: 3124.1431\n",
            "Epoch 30/40, Loss: 2779.0527\n",
            "Epoch 31/40, Loss: 2433.9697\n",
            "Epoch 32/40, Loss: 2088.8965\n",
            "Epoch 33/40, Loss: 1743.8294\n",
            "Epoch 34/40, Loss: 1398.7712\n",
            "Epoch 35/40, Loss: 1053.7203\n",
            "Epoch 36/40, Loss: 708.6749\n",
            "Epoch 37/40, Loss: 363.6350\n",
            "Epoch 38/40, Loss: 18.6005\n",
            "Epoch 39/40, Loss: -326.4301\n",
            "Epoch 40/40, Loss: -671.4560\n"
          ]
        }
      ]
    },
    {
      "cell_type": "markdown",
      "source": [
        "## Evaluating the data with inference, ROC curve, and confusion matrix"
      ],
      "metadata": {
        "id": "wgk9txnrL6bX"
      }
    },
    {
      "cell_type": "code",
      "source": [
        "def predict_labels(observed_sequences, labels, A, b, pi):\n",
        "#For inference purposes, we only need the best paths from our Viterbi decoding function.\n",
        "  pred, _ = viterbi_decoding(observed_sequences, A, b, pi)\n",
        "  states = pred[:,-1]\n",
        "  print(states)\n",
        "  correct = (states == labels).sum().item()\n",
        "  total = labels.numel()\n",
        "  accuracy = correct / total\n",
        "  return accuracy, states"
      ],
      "metadata": {
        "id": "7eGQpA5LL6bX"
      },
      "execution_count": 123,
      "outputs": []
    },
    {
      "cell_type": "code",
      "source": [
        "val_results, _ = predict_labels(val_sequences, val_labels, A, b, pi)\n",
        "print(val_labels)\n",
        "print(val_results)"
      ],
      "metadata": {
        "colab": {
          "base_uri": "https://localhost:8080/"
        },
        "outputId": "676e6ffc-0105-46c5-ded2-3288f83cedb0",
        "id": "5RjPgX-sL6bY"
      },
      "execution_count": 124,
      "outputs": [
        {
          "output_type": "stream",
          "name": "stdout",
          "text": [
            "tensor([0, 0, 0, 0, 0, 0, 0, 0, 0, 0, 0, 0, 0, 0, 0, 0, 0, 0, 0, 0, 0, 0, 0, 0,\n",
            "        1, 0, 0, 0, 0, 0, 0, 0, 0, 0, 0])\n",
            "tensor([1, 1, 0, 0, 1, 1, 0, 0, 0, 1, 1, 1, 1, 1, 1, 1, 0, 0, 1, 0, 1, 1, 1, 0,\n",
            "        1, 1, 1, 1, 1, 0, 0, 0, 0, 0, 0])\n",
            "0.45714285714285713\n"
          ]
        }
      ]
    },
    {
      "cell_type": "code",
      "source": [
        "# Define true labels and predicted labels.\n",
        "true = test_labels.numpy()\n",
        "_, pred = predict_labels(test_sequences, test_labels, A, b, pi)\n",
        "pred = pred.numpy()"
      ],
      "metadata": {
        "colab": {
          "base_uri": "https://localhost:8080/"
        },
        "id": "xDo60SOeOPDM",
        "outputId": "1fa28833-0172-4b34-82b6-91e62a3850ab"
      },
      "execution_count": 125,
      "outputs": [
        {
          "output_type": "stream",
          "name": "stdout",
          "text": [
            "tensor([0, 0, 0, 0, 0, 0, 0, 0, 0, 0, 0, 0, 0, 0, 0, 0, 0, 0, 0, 0, 0, 0, 0, 0,\n",
            "        0, 0, 0, 0, 0, 0, 0, 0, 0, 0, 0, 0])\n"
          ]
        }
      ]
    },
    {
      "cell_type": "code",
      "source": [
        "#C Calculate confusion matrix of the dataset on the test data.\n",
        "TP = ((pred == 1) & (true == 1)).sum().item()\n",
        "TN = ((pred == 0) & (true == 0)).sum().item()\n",
        "FP = ((pred == 1) & (true == 0)).sum().item()\n",
        "FN = ((pred == 0) & (true == 1)).sum().item()\n",
        "\n",
        "conf_matrix = torch.tensor([[TN, FP], [FN, TP]])\n",
        "print(conf_matrix)"
      ],
      "metadata": {
        "colab": {
          "base_uri": "https://localhost:8080/"
        },
        "id": "RtNm1yCZONmJ",
        "outputId": "e9b6de8a-d896-4e28-d27f-bdf49472d192"
      },
      "execution_count": 126,
      "outputs": [
        {
          "output_type": "stream",
          "name": "stdout",
          "text": [
            "tensor([[17,  0],\n",
            "        [19,  0]])\n"
          ]
        }
      ]
    },
    {
      "cell_type": "code",
      "source": [
        "import matplotlib.pyplot as plt\n",
        "\n",
        "# Sort by predicted scores in descending order.\n",
        "sorted_indices = np.argsort(-pred)\n",
        "true = true[sorted_indices]\n",
        "pred = pred[sorted_indices]\n",
        "\n",
        "thresh = np.unique(pred)\n",
        "tpr = []  # True positive rate.\n",
        "fpr = []  # False positive rate.\n",
        "\n",
        "# Total positives and negatives.\n",
        "P = sum(true)\n",
        "N = len(true) - P\n",
        "\n",
        "# Iterate through thresholds.\n",
        "for t in thresh:\n",
        "  # Classify predictions as positive or negative.\n",
        "  lab = (pred >= t)\n",
        "\n",
        "  TP = np.sum((lab == 1) & (true == 1))\n",
        "  FP = np.sum((lab == 1) & (true == 0))\n",
        "  FN = np.sum((lab == 0) & (true == 1))\n",
        "  TN = np.sum((lab == 0) & (true == 0))\n",
        "\n",
        "  # Calculate TPR and FPR.\n",
        "  tpr.append(TP/P)\n",
        "  fpr.append(FP/N)\n",
        "\n",
        "auc = np.trapz(tpr, fpr)\n",
        "print(auc)\n",
        "\n",
        "plt.figure()\n",
        "plt.plot(fpr, tpr, marker='o', label=\"ROC Curve\")\n",
        "plt.plot([0, 1], [0, 1], linestyle='--', color='gray', label=\"Random Classifier\")\n",
        "plt.xlabel(\"False Positive Rate (FPR)\")\n",
        "plt.ylabel(\"True Positive Rate (TPR)\")\n",
        "plt.title(\"ROC Curve\")\n",
        "plt.legend(loc=\"lower right\")\n",
        "plt.show()"
      ],
      "metadata": {
        "colab": {
          "base_uri": "https://localhost:8080/",
          "height": 0
        },
        "outputId": "e116c58e-e094-46d5-c1e4-9485c580bf41",
        "id": "hLqYr3n3L6bY"
      },
      "execution_count": 127,
      "outputs": [
        {
          "output_type": "stream",
          "name": "stdout",
          "text": [
            "0.0\n"
          ]
        },
        {
          "output_type": "display_data",
          "data": {
            "text/plain": [
              "<Figure size 640x480 with 1 Axes>"
            ],
            "image/png": "[encoded data removed]"
          },
          "metadata": {}
        }
      ]
    },
    {
      "cell_type": "markdown",
      "source": [
        "# LMFAO"
      ],
      "metadata": {
        "id": "xDhYwMLxOdQM"
      }
    },
    {
      "cell_type": "markdown",
      "source": [
        "## Data preprocessing/tokenization"
      ],
      "metadata": {
        "id": "UvnOLUy8OdQN"
      }
    },
    {
      "cell_type": "code",
      "source": [
        "# Number of states (ham, spam) and features.\n",
        "n_states = 2\n",
        "\n",
        "# Maximum number of words that will be defined its sown token.\n",
        "n_features = 400\n",
        "\n",
        "# Load the dataset.\n",
        "df = pd.read_csv(\"Youtube03-LMFAO.csv\", header=None, names=[\"ID\", \"Author\", \"Date\", \"Message\", \"Label\"])"
      ],
      "metadata": {
        "id": "nog3aTXgOdQN"
      },
      "execution_count": 128,
      "outputs": []
    },
    {
      "cell_type": "code",
      "source": [
        "# Map labels ham/spam to binary values.\n",
        "df['Label'] = df['Label'].map({'0': 0, '1': 1})\n",
        "\n",
        "# Train/Val/Test split: 80%/10%/10%\n",
        "train_data = df.sample(n=int((df.shape[0])*0.8), random_state=10)\n",
        "rem = df.drop(train_data.index)\n",
        "val_data = rem.sample(n=int((rem.shape[0])*0.5), random_state=10)\n",
        "test_data = rem.drop(val_data.index)\n",
        "\n",
        "# Extract text data and labels.\n",
        "train_text = train_data['Message'].tolist()\n",
        "train_labels = train_data['Label'].tolist()\n",
        "val_text = val_data['Message'].tolist()\n",
        "val_labels = val_data['Label'].tolist()\n",
        "test_text = test_data['Message'].tolist()\n",
        "test_labels = test_data['Label'].tolist()\n",
        "\n",
        "#train_text = train_text[:500]\n",
        "#train_labels = train_labels[:500]\n",
        "#val_text = val_text[:100]\n",
        "#val_labels = val_labels[:100]\n",
        "#test_text = test_text[:100]\n",
        "#test_labels = test_labels[:100]\n",
        "\n",
        "# Initialize a vocabulary and assign each unique word an integer ID.\n",
        "word_to_id = defaultdict(lambda: len(word_to_id))\n",
        "\n",
        "# Special tokens for padding and unknown words\n",
        "PAD_TOKEN = \"<PAD>\"\n",
        "UNK_TOKEN = \"<UNK>\"\n",
        "word_to_id[PAD_TOKEN] = 0\n",
        "word_to_id[UNK_TOKEN] = 1\n",
        "\n",
        "# Function to tokenize and encode each message.\n",
        "def tokenize_and_encode(msgs, word_to_id):\n",
        "    encoded_sequences = []\n",
        "    for msg in msgs:\n",
        "        tokens = msg.split()\n",
        "        encoded_msg = [word_to_id[token] if token in word_to_id else word_to_id[UNK_TOKEN]\n",
        "                           for token in tokens]\n",
        "        encoded_sequences.append(encoded_msg)\n",
        "    return encoded_sequences"
      ],
      "metadata": {
        "id": "BYo9cCHVOdQN"
      },
      "execution_count": 129,
      "outputs": []
    },
    {
      "cell_type": "code",
      "source": [
        "# Assign each string in the dataset a token\n",
        "text_data_shuffle = train_data['Message'].tolist()\n",
        "random.shuffle(text_data_shuffle)\n",
        "for message in text_data_shuffle:\n",
        "  tokens = message.split() # Split the strings in each message to process every word separately.\n",
        "  for token in tokens:\n",
        "    if len(word_to_id) >= n_features: # Cap the dictionary length to the defined number of features to prevent overfitting.\n",
        "      break\n",
        "    _ = word_to_id[token] # If a word isn't already assigned a token, give it a token.\n",
        "  if len(word_to_id) >= n_features:\n",
        "    break"
      ],
      "metadata": {
        "id": "UmoRlixMOdQN"
      },
      "execution_count": 130,
      "outputs": []
    },
    {
      "cell_type": "code",
      "source": [
        "print(\"Vocabulary:\", dict(word_to_id))"
      ],
      "metadata": {
        "colab": {
          "base_uri": "https://localhost:8080/"
        },
        "outputId": "fc09e119-166f-4261-8475-aaefae009ff8",
        "id": "Wslgki9wOdQO"
      },
      "execution_count": 131,
      "outputs": [
        {
          "output_type": "stream",
          "name": "stdout",
          "text": [
            "Vocabulary: {'<PAD>': 0, '<UNK>': 1, 'Check': 2, 'out': 3, 'this': 4, 'funny': 5, 'video': 6, '&quot;Cereal': 7, 'Box': 8, 'Knocks': 9, 'Baby&quot;': 10, 'on': 11, 'my': 12, 'channel.\\ufeff': 13, 'i': 14, 'want': 15, 'to': 16, 'be': 17, 'that': 18, 'robot': 19, 'guy...\\ufeff': 20, 'playlist': 21, 'YouTube:a\\ufeff': 22, 'Who': 23, 'df': 24, 'is': 25, 'Lauren': 26, 'Bennett..\\ufeff': 27, 'BEST': 28, 'PARTY': 29, 'SONG': 30, 'LITERALLY': 31, 'ROCK': 32, 'IS': 33, 'IN': 34, 'THE': 35, 'HOUSEE': 36, 'TONIGHT!!!!\\ufeff': 37, 'PLEASE': 38, 'DON&#39;T': 39, 'LIKE': 40, 'THIS': 41, 'COMMENT': 42, 'IF': 43, 'YOU': 44, 'ARE': 45, 'WATCHING': 46, '2015!!!!!!!!!!!\\ufeff': 47, 'our': 48, 'app': 49, 'solve': 50, 'all': 51, 'your': 52, 'party/drunk': 53, 'problems!': 54, '<br': 55, '/><a': 56, 'href=\"https://play.google.com/store/apps/details?id=vn.ibit.AppLocker&amp;hl=en\">https://play.google.com/store/apps/details?id=vn.ibit.AppLocker&amp;hl=en</a>\\ufeff': 57, 'subscribe': 58, 'me': 59, 'plzzzzzzz': 60, 'plzzzzzzzzzzzzzzzzzzzzzzzzzzzzzzz\\ufeff': 61, 'check': 62, 'it': 63, 'free': 64, 'stuff': 65, 'for': 66, 'watching': 67, 'videos': 68, 'and': 69, 'filling': 70, 'surveys<br': 71, '/><br': 72, 'href=\"http://www.prizerebel.com/index.php?r=1446084\">http://www.prizerebel.com/index.php?r=1446084</a>\\ufeff': 73, 'YouTube:\\ufeff': 74, 'still..': 75, 'reminds': 76, 'of': 77, '1': 78, 'years': 79, 'back': 80, 'when': 81, 'was': 82, 'do': 83, 'shuffle': 84, 'everyday\\ufeff': 85, 'Good\\ufeff': 86, 'Love': 87, 'song': 88, 'makes': 89, 'wanna': 90, 'dance!': 91, '\\ufeff': 92, 'happy\\ufeff': 93, 'everyday': 94, 'I&#39;m': 95, 'shufflin\\ufeff': 96, 'I': 97, 'shuffled': 98, 'while': 99, 'listening': 100, 'song.': 101, 'ILLNESS': 102, 'SPREADING!!\\ufeff': 103, 'OOOOO': 104, 'SHUFFLLLLLLLLLLLLLLLLLLLLLLINNNNN\\ufeff': 105, 'Guys': 106, 'lmfaois': 107, 'going': 108, 'have': 109, 'a': 110, 'reunion': 111, 'June/27/15': 112, 'at': 113, 'expo': 114, 'Idaho': 115, 'gardens': 116, 'there': 117, '2': 118, 'performe': 119, 'live': 120, 'there&#39;s': 121, 'press': 122, 'conference': 123, 'after': 124, 'answer': 125, 'questions': 126, 'about': 127, 'were': 128, 'been': 129, 'its': 130, 'channel': 131, 'got': 132, 'publishing': 133, 'rights': 134, 'watch': 135, 'the': 136, 'whole': 137, 'thing': 138, 'if': 139, 'u': 140, 'don&#39;t': 141, 'believe': 142, 'look': 143, 'up': 144, 'hope': 145, 'see': 146, 'true': 147, 'fans': 148, 'yes': 149, 'it&#39;s': 150, 'like': 151, 'comment': 152, 'please\\ufeff': 153, 'not': 154, 'million': 155, 'view': 156, 'anymore': 157, ':))\\ufeff': 158, 'Party': 159, 'rock!': 160, 'XD\\ufeff': 161, 'CONTENT': 162, 'love': 163, 'so': 164, 'much!!!!!!!!!!!!!!!!!!!!!!!!!!!!!!!!!!!!!!!!!!!!!!!!!!!!!!!!!!!!!!!!!!!!!!!!!!!!!!\\ufeff': 165, 'okay,': 166, 'should': 167, 'cover': 168, 'some': 169, 'time...': 170, 'Thumbs': 171, 'you&#39;re': 172, 'youtube': 173, 'still': 174, 'exists.\\ufeff': 175, 'YouTube:<br': 176, '/>\\ufeff': 177, '1000000000': 178, 'views.\\ufeff': 179, 'NICE': 180, ':3\\ufeff': 181, 'Omg\\ufeff': 182, 'A': 183, 'SUBSCRIBER\\ufeff': 184, 'AND': 185, 'SUBSCRIBE\\ufeff': 186, 'YouTube:pl\\ufeff': 187, 'Shuffle\\ufeff': 188, 'dance': 189, 'videos!!': 190, 'You': 191, 'won&#39;t': 192, 'disappointed!!': 193, '<a': 194, 'rel=\"nofollow\"': 195, 'class=\"ot-hashtag\"': 196, 'href=\"https://plus.google.com/s/%23KingLoTheDancer\">#KingLoTheDancer</a>\\ufeff': 197, '2011-': 198, 'last': 199, 'year': 200, 'decent': 201, 'music.\\ufeff': 202, 'Subscribe': 203, '!\\ufeff': 204, 'soooooooooooooooooooooooooooooooooooooooooooooooooo': 205, 'much\\ufeff': 206, 'Remeber': 207, 'good': 208, 'ol&#39;': 209, 'days': 210, 'songs': 211, 'weren&#39;t': 212, 'butts.': 213, 'This': 214, 'best': 215, 'ever': 216, 'hire<br': 217, 'cool': 218, 'cool\\ufeff': 219, 'share': 220, 'thoughts\\ufeff': 221, 'We': 222, 'can': 223, 'party': 224, 'next': 225, 'share\\ufeff': 226, 'href=\"https://m.freemyapps.com/share/url/505b0232\">https://m.freemyapps.com/share/url/505b0232</a>\\ufeff': 227, 'song<br': 228, 'very': 229, 'with': 230, 'companions': 231, 'front': 232, 'school\\ufeff': 233, '<span': 234, 'class=\"proflinkWrapper\"><span': 235, 'class=\"proflinkPrefix\">+</span><a': 236, 'class=\"proflink\"': 237, 'href=\"https://plus.google.com/104999962146104962510\"': 238, 'oid=\"104999962146104962510\">SuperMarioLogan</a></span>': 239, 'you': 240, 'thot': 241, 'dudes': 242, 'r': 243, 'epic': 244, 'awsome\\ufeff': 245, 'Omg': 246, 'first': 247, 'YouTube': 248, 'hit': 249, 'billion': 250, 'views': 251, 'agree.\\ufeff': 252, 'born': 253, 'in': 254, 'wrong': 255, 'generation\\ufeff': 256, 'Comment': 257, 'kill': 258, ':P\\ufeff': 259, 'WELL': 260, 'DUDES': 261, 'FADED': 262, 'FUCK': 263, 'OUT!\\ufeff': 264, 'LMFAO': 265, '-': 266, 'Rock': 267, 'Anthem': 268, 'ft.': 269, 'Bennett,': 270, 'GoonRock.\\ufeff': 271, 'give': 272, 'like\\ufeff': 273, 'are': 274, '2015\\ufeff': 275, 'here\\ufeff': 276, 'why': 277, 'does': 278, 'world': 279, 'shuffle???\\ufeff': 280, 'big': 281, 'bang': 282, 'happened<br': 283, '/>i': 284, 'do\\ufeff': 285, 'HOW': 286, 'MANY': 287, 'THUMBS': 288, 'UP': 289, 'FOR': 290, 'LOUIS': 291, 'SAVING': 292, 'DAY!?!?\\ufeff': 293, 'YouTube:': 294, 'tried\\ufeff': 295, 'it<br': 296, 'Cool\\ufeff': 297, '2015': 298, 'ask': 299, 'myself': 300, 'how': 301, 'people': 302, 'seems': 303, 'Gangnam': 304, 'style': 305, 'copied': 306, 'though,': 307, 'might': 308, 'just': 309, 'but': 310, 'yea\\ufeff': 311, 'rock': 312, 'due': 313, 'duel\\ufeff': 314, 'views......': 315, 'They&#39;re': 316, 'over': 317, '90,000!!!!!!!!!!!!!!!!!!!!!!!!!!!!!!!!!!!!!!!!!!!!!!!!!!!!!!!!!!!!!!!!!!!!!!!!!!!!!!!!!!!!!!!!!\\ufeff': 318, 'So,cool！！\\ufeff': 319, '870,000,000': 320, 'views...566,000': 321, 'comments...oh': 322, 'lanta\\ufeff': 323, 'out:': 324, 'My': 325, 'Hood': 326, 'Doh,': 327, 'by': 328, 'Flixter': 329, 'Nossnevs\\ufeff': 330, '/>Please': 331, 'help': 332, 'get': 333, '100': 334, 'subscribers': 335, 'end': 336, 'night.': 337, 'Thx\\ufeff': 338, 'Anyone': 339, 'else': 340, 'think': 341, 'theme': 342, 'bit': 343, 'an': 344, 'insult': 345, '28': 346, 'later?': 347, 'YouTube:lo\\ufeff': 348, 'Very': 349, 'good!': 350, 'Like!': 351, ':D\\ufeff': 352, '2015!!': 353, 'LLIKEE!!\\ufeff': 354, 'know': 355, 'old': 356, '(like)': 357, 'Way': 358, 'their': 359, 'guy': 360, 'warring': 361, 'head.\\ufeff': 362, 'pleas': 363, 'ps4': 364, 'games': 365, '/><i>______________________________</i><br': 366, '/>if': 367, 'som': 368, 'tips': 369, 'contact': 370, 'kik': 371, 'or': 372, 'skype<br': 373, '/>Kik:': 374, 'pander26<br': 375, '/>Skype:': 376, 'sander.nicolaysen2<br': 377, '/><i>______________________</i><br': 378, '/>pleas': 379, 'Kashoo': 380, 'Gaming\\ufeff': 381, 'LIKKEE\\ufeff': 382, 'Channel\\ufeff': 383, 'lets': 384, 'BILLION\\ufeff': 385, 'Laughing': 386, 'Fucking': 387, 'Ass': 388, 'Off!!!\\ufeff': 389, 'rap\\ufeff': 390, 'YouTube:it': 391, 'track': 392, 'bad\\ufeff': 393, '░░░░░░░/\\\\░░░░░▄▐<br': 394, '/>░░░░░░/': 395, '\\\\░░░▄██▄<br': 396, '/>░░░░░/': 397, '(o)': 398, '\\\\░░░░░▀█▄<br': 399}\n"
          ]
        }
      ]
    },
    {
      "cell_type": "code",
      "source": [
        "# Apply tokenization and encoding to dataset.\n",
        "token_text = tokenize_and_encode(train_text, word_to_id)\n",
        "\n",
        "# Pad sequences to the same length for batch processing.\n",
        "def pad_sequences(sequences, max_length, pad_value=0):\n",
        "  padded_sequences = []\n",
        "  for seq in sequences:\n",
        "    if len(seq) < max_length:\n",
        "      padded_seq = seq + [pad_value] * (max_length - len(seq))\n",
        "    else:\n",
        "      padded_seq = seq[:max_length]\n",
        "    padded_sequences.append(padded_seq)\n",
        "  return padded_sequences\n",
        "\n",
        "# Set a maximum sequence length.\n",
        "max_length = 70\n",
        "\n",
        "#Tokenize the training, validation, and test sequences\n",
        "train_sequences = pad_sequences(token_text, max_length, pad_value=word_to_id[PAD_TOKEN])\n",
        "val_sequences = pad_sequences(tokenize_and_encode(val_text, word_to_id), max_length, pad_value=word_to_id[PAD_TOKEN])\n",
        "test_sequences = pad_sequences(tokenize_and_encode(test_text, word_to_id), max_length, pad_value=word_to_id[PAD_TOKEN])\n",
        "\n",
        "# Convert sequences and labels to PyTorch tensors.\n",
        "train_sequences = torch.tensor(train_sequences, dtype=torch.long)\n",
        "#train_labels = torch.tensor(train_labels, dtype=torch.long)\n",
        "val_sequences = torch.tensor(val_sequences, dtype=torch.long)\n",
        "val_labels = torch.tensor(val_labels, dtype=torch.long)\n",
        "test_sequences = torch.tensor(test_sequences, dtype=torch.long)\n",
        "test_labels = torch.tensor(test_labels, dtype=torch.long)"
      ],
      "metadata": {
        "id": "gUPpf7aYOdQO"
      },
      "execution_count": 132,
      "outputs": []
    },
    {
      "cell_type": "markdown",
      "source": [
        "##Viterbi algorithm and training"
      ],
      "metadata": {
        "id": "Xx-zDzihOdQO"
      }
    },
    {
      "cell_type": "code",
      "source": [
        "# Define transitions.\n",
        "A = nn.Parameter(nn.functional.log_softmax(torch.randn(n_states,n_states), dim=0)).float()\n",
        "\n",
        "# Define emissions.\n",
        "b = nn.Parameter(nn.functional.log_softmax(torch.randn(n_states,n_features), dim=0)).float()\n",
        "\n",
        "# Define initial state probabilities; state priors.\n",
        "pi = nn.Parameter(nn.functional.log_softmax(torch.randn(n_states), dim=0)).float()"
      ],
      "metadata": {
        "id": "ztcfkrpVOdQO"
      },
      "execution_count": 133,
      "outputs": []
    },
    {
      "cell_type": "code",
      "source": [
        "def viterbi_decoding(observed_sequences, A, b, pi):\n",
        "\n",
        "  batch_size, seq_len = observed_sequences.shape\n",
        "  n_states = A.shape[0]\n",
        "\n",
        "  # Initialize omega and psi.\n",
        "  omega = torch.zeros(batch_size, seq_len, n_states).float()\n",
        "  psi = torch.zeros(batch_size, seq_len, n_states).long()\n",
        "\n",
        "  # Enable CUDA if available.\n",
        "  device = torch.device(\"cuda\" if torch.cuda.is_available() else \"cpu\")\n",
        "  observed_sequences = observed_sequences.to(device)\n",
        "  A = A.to(device)\n",
        "  b = b.to(device)\n",
        "  pi = pi.to(device)\n",
        "  omega = omega.to(device)\n",
        "  psi = psi.to(device)\n",
        "\n",
        "  # Initialize the omega value.\n",
        "  omega[:, 0, :] = pi + b[:, observed_sequences[:, 0]].T\n",
        "\n",
        "  # Recursion.\n",
        "  for t in range(1, seq_len):\n",
        "    omega_tminus1 = omega[:, t-1, :].unsqueeze(2)\n",
        "    log_transition = omega_tminus1 + A.unsqueeze(0)\n",
        "\n",
        "    # Get max probabilities and their indices.\n",
        "    max_log_probs, psi[:, t, :] = log_transition.max(dim=1)\n",
        "    omega[:, t, :] = max_log_probs + b[:, observed_sequences[:, t]].T\n",
        "\n",
        "  # Backtrace to find the most probable states.\n",
        "  best_paths = torch.zeros(batch_size, seq_len).long()\n",
        "  best_paths = best_paths.to(device)\n",
        "  best_paths[:, -1] = omega[:, -1, :].argmax(dim=1)\n",
        "\n",
        "  for t in range(seq_len - 2, -1, -1):\n",
        "    best_paths[:, t] = psi[torch.arange(batch_size), t + 1, best_paths[:, t + 1]]\n",
        "\n",
        "  # The log probability of the best paths can be accessed from the omega matrix.\n",
        "  log_prob = omega[torch.arange(batch_size), -1, best_paths[:, -1]]\n",
        "\n",
        "  return best_paths, log_prob"
      ],
      "metadata": {
        "id": "ZC4T6OYpOdQP"
      },
      "execution_count": 134,
      "outputs": []
    },
    {
      "cell_type": "code",
      "source": [
        "epochs = 40\n",
        "batch_size = 32\n",
        "lr = 0.001\n",
        "\n",
        "def train_hmm(observed_sequences, A, b, pi, n_epochs, lr, batch_size):\n",
        "  # Initialize Adam optimizer and gradient clip in case the gradient becomes too large.\n",
        "  optimizer = optim.Adam([A, b, pi], lr=lr)\n",
        "\n",
        "  # Calculate number of batches.\n",
        "  batches = (len(observed_sequences) + batch_size - 1) // b\n",
        "\n",
        "  # Initialize total loss function and enable gradient calculations.\n",
        "  for epoch in range(n_epochs):\n",
        "    total_loss = 0\n",
        "    optimizer.zero_grad()\n",
        "\n",
        "    for i in range(0, len(observed_sequences), batch_size):\n",
        "      batch = observed_sequences[i:i + batch_size]\n",
        "\n",
        "      # Perform Viterbi decoding and compute negative log-likelihood loss.\n",
        "      # We only need the log probability for the purposes of training.\n",
        "      _, log_probs = viterbi_decoding(batch, A, b, pi)\n",
        "      loss = -log_probs.sum()\n",
        "\n",
        "      # Backpropagation.\n",
        "      loss.backward()\n",
        "      # Add gradient clipping in the case the gradient becomes too large.\n",
        "      nn.utils.clip_grad_norm_([A, b, pi], max_norm=1.0)\n",
        "      optimizer.step()\n",
        "\n",
        "      # Add the calculated loss to the total loss.\n",
        "      total_loss += loss.item()\n",
        "\n",
        "    print(f\"Epoch {epoch + 1}/{n_epochs}, Loss: {total_loss:.4f}\")"
      ],
      "metadata": {
        "id": "hQSeQNVMOdQP"
      },
      "execution_count": 135,
      "outputs": []
    },
    {
      "cell_type": "code",
      "source": [
        "train_hmm(train_sequences, A, b, pi, epochs, lr, batch_size)"
      ],
      "metadata": {
        "colab": {
          "base_uri": "https://localhost:8080/"
        },
        "outputId": "ae527699-f342-40e6-a5d1-afc123a0e9a6",
        "id": "To8EnWmsOdQP"
      },
      "execution_count": 136,
      "outputs": [
        {
          "output_type": "stream",
          "name": "stdout",
          "text": [
            "Epoch 1/40, Loss: 18079.0406\n",
            "Epoch 2/40, Loss: 17545.8502\n",
            "Epoch 3/40, Loss: 17013.1584\n",
            "Epoch 4/40, Loss: 16480.6497\n",
            "Epoch 5/40, Loss: 15948.2659\n",
            "Epoch 6/40, Loss: 15415.9828\n",
            "Epoch 7/40, Loss: 14883.7649\n",
            "Epoch 8/40, Loss: 14351.5964\n",
            "Epoch 9/40, Loss: 13819.4727\n",
            "Epoch 10/40, Loss: 13287.3763\n",
            "Epoch 11/40, Loss: 12755.3002\n",
            "Epoch 12/40, Loss: 12223.2451\n",
            "Epoch 13/40, Loss: 11691.2079\n",
            "Epoch 14/40, Loss: 11159.1814\n",
            "Epoch 15/40, Loss: 10627.1677\n",
            "Epoch 16/40, Loss: 10095.1650\n",
            "Epoch 17/40, Loss: 9563.1717\n",
            "Epoch 18/40, Loss: 9031.1887\n",
            "Epoch 19/40, Loss: 8499.2075\n",
            "Epoch 20/40, Loss: 7967.2349\n",
            "Epoch 21/40, Loss: 7435.2678\n",
            "Epoch 22/40, Loss: 6903.3108\n",
            "Epoch 23/40, Loss: 6371.3484\n",
            "Epoch 24/40, Loss: 5839.3932\n",
            "Epoch 25/40, Loss: 5307.4451\n",
            "Epoch 26/40, Loss: 4775.4992\n",
            "Epoch 27/40, Loss: 4243.5575\n",
            "Epoch 28/40, Loss: 3711.6144\n",
            "Epoch 29/40, Loss: 3179.6776\n",
            "Epoch 30/40, Loss: 2647.7425\n",
            "Epoch 31/40, Loss: 2115.8095\n",
            "Epoch 32/40, Loss: 1583.8796\n",
            "Epoch 33/40, Loss: 1051.9502\n",
            "Epoch 34/40, Loss: 520.0199\n",
            "Epoch 35/40, Loss: -11.9120\n",
            "Epoch 36/40, Loss: -543.8406\n",
            "Epoch 37/40, Loss: -1075.7665\n",
            "Epoch 38/40, Loss: -1607.6913\n",
            "Epoch 39/40, Loss: -2139.6136\n",
            "Epoch 40/40, Loss: -2671.5388\n"
          ]
        }
      ]
    },
    {
      "cell_type": "markdown",
      "source": [
        "## Evaluating the data with inference, ROC curve, and confusion matrix"
      ],
      "metadata": {
        "id": "I0sQJPoMOdQP"
      }
    },
    {
      "cell_type": "code",
      "source": [
        "def predict_labels(observed_sequences, labels, A, b, pi):\n",
        "#For inference purposes, we only need the best paths from our Viterbi decoding function.\n",
        "  pred, _ = viterbi_decoding(observed_sequences, A, b, pi)\n",
        "  states = pred[:,-1]\n",
        "  print(states)\n",
        "  correct = (states == labels).sum().item()\n",
        "  total = labels.numel()\n",
        "  accuracy = correct / total\n",
        "  return accuracy, states"
      ],
      "metadata": {
        "id": "-IFg8vAAOdQQ"
      },
      "execution_count": 137,
      "outputs": []
    },
    {
      "cell_type": "code",
      "source": [
        "val_results, _ = predict_labels(val_sequences, val_labels, A, b, pi)\n",
        "print(val_labels)\n",
        "print(val_results)"
      ],
      "metadata": {
        "colab": {
          "base_uri": "https://localhost:8080/"
        },
        "outputId": "b6b6fa8f-1cc2-4d31-f8f2-767195be68b3",
        "id": "WvHeYNRrOdQQ"
      },
      "execution_count": 138,
      "outputs": [
        {
          "output_type": "stream",
          "name": "stdout",
          "text": [
            "tensor([1, 1, 1, 1, 1, 1, 1, 1, 1, 1, 1, 0, 1, 1, 1, 1, 1, 1, 1, 1, 1, 1, 1, 1,\n",
            "        1, 1, 1, 1, 1, 1, 1, 1, 1, 1, 1, 1, 1, 1, 1, 1, 1, 1, 1, 1])\n",
            "tensor([1, 1, 0, 0, 1, 0, 1, 1, 1, 1, 1, 1, 0, 1, 0, 0, 1, 0, 0, 1, 1, 0, 0, 1,\n",
            "        1, 1, 1, 0, 1, 0, 0, 1, 1, 0, 0, 0, 1, 1, 1, 0, 1, 1, 0, 1])\n",
            "0.5681818181818182\n"
          ]
        }
      ]
    },
    {
      "cell_type": "code",
      "source": [
        "# Define true labels and predicted labels.\n",
        "true = test_labels.numpy()\n",
        "_, pred = predict_labels(test_sequences, test_labels, A, b, pi)\n",
        "pred = pred.numpy()"
      ],
      "metadata": {
        "colab": {
          "base_uri": "https://localhost:8080/"
        },
        "outputId": "8460a49f-f560-4ac2-c888-b50374b9e0cb",
        "id": "iu21XyxOOdQQ"
      },
      "execution_count": 139,
      "outputs": [
        {
          "output_type": "stream",
          "name": "stdout",
          "text": [
            "tensor([1, 1, 1, 1, 1, 1, 1, 1, 1, 1, 1, 1, 1, 1, 1, 1, 1, 1, 1, 1, 1, 1, 1, 1,\n",
            "        1, 1, 1, 1, 1, 1, 1, 1, 1, 1, 1, 1, 1, 1, 1, 1, 1, 1, 1, 1])\n"
          ]
        }
      ]
    },
    {
      "cell_type": "code",
      "source": [
        "#C Calculate confusion matrix of the dataset on the test data.\n",
        "TP = ((pred == 1) & (true == 1)).sum().item()\n",
        "TN = ((pred == 0) & (true == 0)).sum().item()\n",
        "FP = ((pred == 1) & (true == 0)).sum().item()\n",
        "FN = ((pred == 0) & (true == 1)).sum().item()\n",
        "\n",
        "conf_matrix = torch.tensor([[TN, FP], [FN, TP]])\n",
        "print(conf_matrix)"
      ],
      "metadata": {
        "colab": {
          "base_uri": "https://localhost:8080/"
        },
        "outputId": "214145bf-360b-46a8-b2ed-f5d9c10111c8",
        "id": "76YoOm0WOdQQ"
      },
      "execution_count": 140,
      "outputs": [
        {
          "output_type": "stream",
          "name": "stdout",
          "text": [
            "tensor([[ 0, 22],\n",
            "        [ 0, 22]])\n"
          ]
        }
      ]
    },
    {
      "cell_type": "code",
      "source": [
        "import matplotlib.pyplot as plt\n",
        "\n",
        "# Sort by predicted scores in descending order.\n",
        "sorted_indices = np.argsort(-pred)\n",
        "true = true[sorted_indices]\n",
        "pred = pred[sorted_indices]\n",
        "\n",
        "thresh = np.unique(pred)\n",
        "tpr = []  # True positive rate.\n",
        "fpr = []  # False positive rate.\n",
        "\n",
        "# Total positives and negatives.\n",
        "P = sum(true)\n",
        "N = len(true) - P\n",
        "\n",
        "# Iterate through thresholds.\n",
        "for t in thresh:\n",
        "  # Classify predictions as positive or negative.\n",
        "  lab = (pred >= t)\n",
        "\n",
        "  TP = np.sum((lab == 1) & (true == 1))\n",
        "  FP = np.sum((lab == 1) & (true == 0))\n",
        "  FN = np.sum((lab == 0) & (true == 1))\n",
        "  TN = np.sum((lab == 0) & (true == 0))\n",
        "\n",
        "  # Calculate TPR and FPR.\n",
        "  tpr.append(TP/P)\n",
        "  fpr.append(FP/N)\n",
        "\n",
        "auc = np.trapz(tpr, fpr)\n",
        "print(auc)\n",
        "\n",
        "plt.figure()\n",
        "plt.plot(fpr, tpr, marker='o', label=\"ROC Curve\")\n",
        "plt.plot([0, 1], [0, 1], linestyle='--', color='gray', label=\"Random Classifier\")\n",
        "plt.xlabel(\"False Positive Rate (FPR)\")\n",
        "plt.ylabel(\"True Positive Rate (TPR)\")\n",
        "plt.title(\"ROC Curve\")\n",
        "plt.legend(loc=\"lower right\")\n",
        "plt.show()"
      ],
      "metadata": {
        "colab": {
          "base_uri": "https://localhost:8080/",
          "height": 0
        },
        "outputId": "ccc08098-a5b8-410b-d76d-84421bf6bdda",
        "id": "fQa0aa7vOdQR"
      },
      "execution_count": 141,
      "outputs": [
        {
          "output_type": "stream",
          "name": "stdout",
          "text": [
            "0.0\n"
          ]
        },
        {
          "output_type": "display_data",
          "data": {
            "text/plain": [
              "<Figure size 640x480 with 1 Axes>"
            ],
            "image/png": "[encoded data removed]"
          },
          "metadata": {}
        }
      ]
    },
    {
      "cell_type": "markdown",
      "source": [
        "# Eminem"
      ],
      "metadata": {
        "id": "6kpD-1m9OjxK"
      }
    },
    {
      "cell_type": "markdown",
      "source": [
        "## Data preprocessing/tokenization"
      ],
      "metadata": {
        "id": "QycrA4CbOjxL"
      }
    },
    {
      "cell_type": "code",
      "source": [
        "# Number of states (ham, spam) and features.\n",
        "n_states = 2\n",
        "\n",
        "# Maximum number of words that will be defined its sown token.\n",
        "n_features = 400\n",
        "\n",
        "# Load the dataset.\n",
        "df = pd.read_csv(\"Youtube04-Eminem.csv\", header=None, names=[\"ID\", \"Author\", \"Date\", \"Message\", \"Label\"])"
      ],
      "metadata": {
        "id": "fQtldbjkOjxL"
      },
      "execution_count": 142,
      "outputs": []
    },
    {
      "cell_type": "code",
      "source": [
        "# Map labels ham/spam to binary values.\n",
        "df['Label'] = df['Label'].map({'0': 0, '1': 1})\n",
        "\n",
        "# Train/Val/Test split: 80%/10%/10%\n",
        "train_data = df.sample(n=int((df.shape[0])*0.8), random_state=10)\n",
        "rem = df.drop(train_data.index)\n",
        "val_data = rem.sample(n=int((rem.shape[0])*0.5), random_state=10)\n",
        "test_data = rem.drop(val_data.index)\n",
        "\n",
        "# Extract text data and labels.\n",
        "train_text = train_data['Message'].tolist()\n",
        "train_labels = train_data['Label'].tolist()\n",
        "val_text = val_data['Message'].tolist()\n",
        "val_labels = val_data['Label'].tolist()\n",
        "test_text = test_data['Message'].tolist()\n",
        "test_labels = test_data['Label'].tolist()\n",
        "\n",
        "#train_text = train_text[:500]\n",
        "#train_labels = train_labels[:500]\n",
        "#val_text = val_text[:100]\n",
        "#val_labels = val_labels[:100]\n",
        "#test_text = test_text[:100]\n",
        "#test_labels = test_labels[:100]\n",
        "\n",
        "# Initialize a vocabulary and assign each unique word an integer ID.\n",
        "word_to_id = defaultdict(lambda: len(word_to_id))\n",
        "\n",
        "# Special tokens for padding and unknown words\n",
        "PAD_TOKEN = \"<PAD>\"\n",
        "UNK_TOKEN = \"<UNK>\"\n",
        "word_to_id[PAD_TOKEN] = 0\n",
        "word_to_id[UNK_TOKEN] = 1\n",
        "\n",
        "# Function to tokenize and encode each message.\n",
        "def tokenize_and_encode(msgs, word_to_id):\n",
        "    encoded_sequences = []\n",
        "    for msg in msgs:\n",
        "        tokens = msg.split()\n",
        "        encoded_msg = [word_to_id[token] if token in word_to_id else word_to_id[UNK_TOKEN]\n",
        "                           for token in tokens]\n",
        "        encoded_sequences.append(encoded_msg)\n",
        "    return encoded_sequences"
      ],
      "metadata": {
        "id": "_IyOvkd4OjxL"
      },
      "execution_count": 143,
      "outputs": []
    },
    {
      "cell_type": "code",
      "source": [
        "# Assign each string in the dataset a token\n",
        "text_data_shuffle = train_data['Message'].tolist()\n",
        "random.shuffle(text_data_shuffle)\n",
        "for message in text_data_shuffle:\n",
        "  tokens = message.split() # Split the strings in each message to process every word separately.\n",
        "  for token in tokens:\n",
        "    if len(word_to_id) >= n_features: # Cap the dictionary length to the defined number of features to prevent overfitting.\n",
        "      break\n",
        "    _ = word_to_id[token] # If a word isn't already assigned a token, give it a token.\n",
        "  if len(word_to_id) >= n_features:\n",
        "    break"
      ],
      "metadata": {
        "id": "JAgVTQc8OjxL"
      },
      "execution_count": 144,
      "outputs": []
    },
    {
      "cell_type": "code",
      "source": [
        "print(\"Vocabulary:\", dict(word_to_id))"
      ],
      "metadata": {
        "colab": {
          "base_uri": "https://localhost:8080/"
        },
        "outputId": "053e8d7b-6920-4838-a122-e4edcf4adfdd",
        "id": "lihtc_ChOjxM"
      },
      "execution_count": 145,
      "outputs": [
        {
          "output_type": "stream",
          "name": "stdout",
          "text": [
            "Vocabulary: {'<PAD>': 0, '<UNK>': 1, 'Please': 2, 'check': 3, 'out': 4, 'my': 5, 'New': 6, 'Song': 7, '(Music': 8, 'Video)': 9, 'AD': 10, '-': 11, 'Don&#39;t': 12, 'Play': 13, 'I': 14, 'love': 15, 'music\\ufeff': 16, 'Getting': 17, 'too': 18, '1billion': 19, 'views,': 20, 'holy': 21, 'moly.!!!\\ufeff': 22, 'if': 23, 'u': 24, 'rihanna': 25, 'subscribe': 26, 'me': 27, 'this-the': 28, 'talents': 29, 'of': 30, 'eminem': 31, 'and': 32, 'Skylar,works': 33, 'well': 34, 'together\\ufeff': 35, 'This': 36, 'song/video': 37, 'is': 38, 'such': 39, 'a': 40, 'trigger': 41, 'but': 42, 'it&#39;s': 43, 'just': 44, 'so': 45, 'good...\\ufeff': 46, 'Eminem': 47, 'et': 48, 'Rihana': 49, 'trop': 50, 'belle': 51, 'chanson\\ufeff': 52, 'know': 53, 'that': 54, 'maybe': 55, 'no': 56, 'one': 57, 'will': 58, 'read': 59, 'this': 60, 'PLEASE': 61, 'TYPE': 62, 'IN': 63, '&quot;deazy99&quot;': 64, 'I&#39;m': 65, 'rapper': 66, 'with': 67, 'dream.': 68, 'you': 69, 'must': 70, 'see': 71, 'like': 72, 'millions': 73, 'those': 74, 'on': 75, 'here': 76, 'everyday': 77, 'please': 78, 'music': 79, 'you&#39;d': 80, 'thank': 81, 'you,': 82, 'i': 83, 'would': 84, 'nothing': 85, 'more': 86, 'than': 87, 'to': 88, 'have': 89, 'decent': 90, 'following': 91, 'youtube': 92, 'from': 93, 'people': 94, 'anyone': 95, 'reading': 96, 'could': 97, 'give': 98, 'it': 99, '&quot;THUMBS': 100, 'UP&quot;': 101, 'because': 102, 'what': 103, 'some': 104, 'might': 105, 'as': 106, 'simple': 107, 'button': 108, 'press': 109, 'make': 110, 'dream': 111, 'come': 112, 'true..thank': 113, 'again': 114, 'for': 115, 'your': 116, 'time': 117, '&amp;': 118, 'may': 119, 'god': 120, 'bless': 121, 'song': 122, ':)\\ufeff': 123, 'Hello': 124, 'Brazil': 125, '😻✌💓😻👏\\ufeff': 126, '▬▬▬▬▬▬▬▬▬▬ஜ۩۞۩ஜ▬▬▬▬▬▬▬▬': 127, 'CHECK': 128, 'OUT': 129, 'MY': 130, 'CHANNEL': 131, 'Me': 132, 'big': 133, 'sister': 134, 'you\\ufeff': 135, 'LOVE': 136, 'THE': 137, 'WAY': 138, 'YOU': 139, 'LIE': 140, '..&quot;\\ufeff': 141, 'bad': 142, 'realtionship': 143, 'lol\\ufeff': 144, 'past': 145, 'Christmas': 146, 'dad': 147, 'passed': 148, 'away,': 149, 'help': 150, 'cope': 151, 'picked': 152, 'up': 153, 'pen': 154, 'paper': 155, 'started': 156, 'write.': 157, 'Little': 158, 'did': 159, 'nearly': 160, '9': 161, 'months': 162, 'ago': 163, 'bring': 164, 'where': 165, 'i&#39;m': 166, 'at': 167, 'today.': 168, 'Over': 169, '7k': 170, 'subscribers': 171, '500k': 172, 'video': 173, 'views.': 174, 'wrote': 175, 'released': 176, 'yesterday': 177, 'about': 178, 'friend': 179, 'mine': 180, 'who': 181, 'has': 182, 'tried': 183, 'commit': 184, 'suicide': 185, 'several': 186, 'times,': 187, 'can&#39;t': 188, 'promise': 189, 'professionally': 190, 'produced': 191, 'music,': 192, 'can': 193, 'REAL': 194, 'lyrics.': 195, 'Just': 196, 'click': 197, 'picture.': 198, 'Thanks,': 199, 'thumbs': 200, 'others': 201, 'see?': 202, 'BR\\ufeff': 203, 'the': 204, 'fuck': 205, 'cheats': 206, 'megan': 207, 'fox\\ufeff': 208, 'sorry': 209, 'spam': 210, 'yall': 211, 'it’s': 212, 'annoying.': 213, 'But': 214, 'spare': 215, 'min': 216, 'new': 217, 'track': 218, 'channel': 219, 'upcoming': 220, 'uk': 221, 'rapper.please': 222, 'songs': 223, 'em.': 224, 'If': 225, 'not': 226, 'worries': 227, 'I’m': 228, 'wastin': 229, 'time.': 230, 'Even': 231, 'get': 232, 'noticed': 233, 'really': 234, 'help.': 235, 'peace': 236, 'hey': 237, 'its': 238, 'M.E.S': 239, 'young': 240, 'coming': 241, 'wanna': 242, 'heard': 243, 'wont': 244, 'fame.': 245, 'moment': 246, 'got': 247, 'way': 248, 'getting': 249, 'little': 250, 'attention': 251, 'do': 252, 'favour': 253, 'drop': 254, 'sub': 255, 'enjoy': 256, 'yourself.': 257, 'im': 258, 'appreciate': 259, 'take': 260, 'leave': 261, 'constructive': 262, 'criticism': 263, 'already': 264, '200': 265, '4000': 266, 'views': 267, 'first': 268, 'vid': 269, 'ive': 270, 'been': 271, 'told': 272, 'potential': 273, 'kinda': 274, 'close': 275, '1': 276, 'million': 277, '<br': 278, '/>\\ufeff': 279, 'COVER': 280, 'OF': 281, 'PLEASE!!': 282, 'Maybe': 283, 'probably': 284, 'this.': 285, 'in': 286, 'case': 287, 'Can': 288, 'You': 289, 'Put': 290, 'A': 291, '&quot;Thumbs': 292, 'Up': 293, '&quot;So': 294, 'Others': 295, 'See.': 296, 'rapping': 297, 'seriously': 298, '(Type': 299, 'Lunden-': 300, '1990': 301, 'button?': 302, 'dreams': 303, 'true.': 304, 'ignore': 305, 'don&#39;t': 306, 'listen': 307, 'Thank': 308, 'all': 309, 'God': 310, 'Bless.': 311, 'Never': 312, 'gets': 313, 'old': 314, 'best': 315, 'ever': 316, '❤\\ufeff': 317, 'please\\ufeff': 318, 'Haha,': 319, 'believe': 320, 'how': 321, 'many': 322, 'kids': 323, 'Eminem.': 324, 'he': 325, 'does': 326, 'drugs': 327, 'ends': 328, 'high': 329, 'jail.': 330, 'wonder': 331, 'why': 332, 'never': 333, 'ended': 334, 'OD.': 335, '\\ufeff': 336, 'Is': 337, 'girl': 338, 'Megan': 339, 'fox': 340, 'First': 341, 'they': 342, 'were': 343, 'fighting...': 344, 'Then': 345, 'making': 346, 'out...\\ufeff': 347, 'The': 348, 'rap:': 349, 'cool': 350, 'Rihanna:': 351, 'STTUUPID\\ufeff': 352, 'Im': 353, 'gonna': 354, 'share': 355, 'ryhme': 356, 'canibus': 357, 'blows': 358, 'away': 359, 'quadrillion': 360, 'times': 361, 'especially': 362, 'categories': 363, 'intelligent': 364, 'things': 365, 'his': 366, 'mind.': 367, 'That': 368, 'learned': 369, 'rapped': 370, 'forgot': 371, 'before': 372, 'spit': 373, 'ryme.luv': 374, 'ya': 375, 'linz': 376, '4e\\ufeff': 377, 'guys': 378, 'should': 379, 'EXTRAORDINARY': 380, 'website': 381, 'called': 382, 'MONEYGQ.COM': 383, '.': 384, 'money': 385, 'online': 386, 'start': 387, 'working': 388, 'home': 389, 'today': 390, 'am!': 391, 'am': 392, 'over': 393, '$3,000+': 394, 'per': 395, 'month': 396, '!': 397, 'Visit': 398, 'out!': 399}\n"
          ]
        }
      ]
    },
    {
      "cell_type": "code",
      "source": [
        "# Apply tokenization and encoding to dataset.\n",
        "token_text = tokenize_and_encode(train_text, word_to_id)\n",
        "\n",
        "# Pad sequences to the same length for batch processing.\n",
        "def pad_sequences(sequences, max_length, pad_value=0):\n",
        "  padded_sequences = []\n",
        "  for seq in sequences:\n",
        "    if len(seq) < max_length:\n",
        "      padded_seq = seq + [pad_value] * (max_length - len(seq))\n",
        "    else:\n",
        "      padded_seq = seq[:max_length]\n",
        "    padded_sequences.append(padded_seq)\n",
        "  return padded_sequences\n",
        "\n",
        "# Set a maximum sequence length.\n",
        "max_length = 70\n",
        "\n",
        "#Tokenize the training, validation, and test sequences\n",
        "train_sequences = pad_sequences(token_text, max_length, pad_value=word_to_id[PAD_TOKEN])\n",
        "val_sequences = pad_sequences(tokenize_and_encode(val_text, word_to_id), max_length, pad_value=word_to_id[PAD_TOKEN])\n",
        "test_sequences = pad_sequences(tokenize_and_encode(test_text, word_to_id), max_length, pad_value=word_to_id[PAD_TOKEN])\n",
        "\n",
        "# Convert sequences and labels to PyTorch tensors.\n",
        "train_sequences = torch.tensor(train_sequences, dtype=torch.long)\n",
        "#train_labels = torch.tensor(train_labels, dtype=torch.long)\n",
        "val_sequences = torch.tensor(val_sequences, dtype=torch.long)\n",
        "val_labels = torch.tensor(val_labels, dtype=torch.long)\n",
        "test_sequences = torch.tensor(test_sequences, dtype=torch.long)\n",
        "test_labels = torch.tensor(test_labels, dtype=torch.long)"
      ],
      "metadata": {
        "id": "-w_0Kuj6OjxM"
      },
      "execution_count": 146,
      "outputs": []
    },
    {
      "cell_type": "markdown",
      "source": [
        "##Viterbi algorithm and training"
      ],
      "metadata": {
        "id": "aZ1JVx59OjxM"
      }
    },
    {
      "cell_type": "code",
      "source": [
        "# Define transitions.\n",
        "A = nn.Parameter(nn.functional.log_softmax(torch.randn(n_states,n_states), dim=0)).float()\n",
        "\n",
        "# Define emissions.\n",
        "b = nn.Parameter(nn.functional.log_softmax(torch.randn(n_states,n_features), dim=0)).float()\n",
        "\n",
        "# Define initial state probabilities; state priors.\n",
        "pi = nn.Parameter(nn.functional.log_softmax(torch.randn(n_states), dim=0)).float()"
      ],
      "metadata": {
        "id": "mlhVegUPOjxM"
      },
      "execution_count": 147,
      "outputs": []
    },
    {
      "cell_type": "code",
      "source": [
        "def viterbi_decoding(observed_sequences, A, b, pi):\n",
        "\n",
        "  batch_size, seq_len = observed_sequences.shape\n",
        "  n_states = A.shape[0]\n",
        "\n",
        "  # Initialize omega and psi.\n",
        "  omega = torch.zeros(batch_size, seq_len, n_states).float()\n",
        "  psi = torch.zeros(batch_size, seq_len, n_states).long()\n",
        "\n",
        "  # Enable CUDA if available.\n",
        "  device = torch.device(\"cuda\" if torch.cuda.is_available() else \"cpu\")\n",
        "  observed_sequences = observed_sequences.to(device)\n",
        "  A = A.to(device)\n",
        "  b = b.to(device)\n",
        "  pi = pi.to(device)\n",
        "  omega = omega.to(device)\n",
        "  psi = psi.to(device)\n",
        "\n",
        "  # Initialize the omega value.\n",
        "  omega[:, 0, :] = pi + b[:, observed_sequences[:, 0]].T\n",
        "\n",
        "  # Recursion.\n",
        "  for t in range(1, seq_len):\n",
        "    omega_tminus1 = omega[:, t-1, :].unsqueeze(2)\n",
        "    log_transition = omega_tminus1 + A.unsqueeze(0)\n",
        "\n",
        "    # Get max probabilities and their indices.\n",
        "    max_log_probs, psi[:, t, :] = log_transition.max(dim=1)\n",
        "    omega[:, t, :] = max_log_probs + b[:, observed_sequences[:, t]].T\n",
        "\n",
        "  # Backtrace to find the most probable states.\n",
        "  best_paths = torch.zeros(batch_size, seq_len).long()\n",
        "  best_paths = best_paths.to(device)\n",
        "  best_paths[:, -1] = omega[:, -1, :].argmax(dim=1)\n",
        "\n",
        "  for t in range(seq_len - 2, -1, -1):\n",
        "    best_paths[:, t] = psi[torch.arange(batch_size), t + 1, best_paths[:, t + 1]]\n",
        "\n",
        "  # The log probability of the best paths can be accessed from the omega matrix.\n",
        "  log_prob = omega[torch.arange(batch_size), -1, best_paths[:, -1]]\n",
        "\n",
        "  return best_paths, log_prob"
      ],
      "metadata": {
        "id": "ryAt7B1vOjxM"
      },
      "execution_count": 148,
      "outputs": []
    },
    {
      "cell_type": "code",
      "source": [
        "epochs = 40\n",
        "batch_size = 32\n",
        "lr = 0.001\n",
        "\n",
        "def train_hmm(observed_sequences, A, b, pi, n_epochs, lr, batch_size):\n",
        "  # Initialize Adam optimizer and gradient clip in case the gradient becomes too large.\n",
        "  optimizer = optim.Adam([A, b, pi], lr=lr)\n",
        "\n",
        "  # Calculate number of batches.\n",
        "  batches = (len(observed_sequences) + batch_size - 1) // b\n",
        "\n",
        "  # Initialize total loss function and enable gradient calculations.\n",
        "  for epoch in range(n_epochs):\n",
        "    total_loss = 0\n",
        "    optimizer.zero_grad()\n",
        "\n",
        "    for i in range(0, len(observed_sequences), batch_size):\n",
        "      batch = observed_sequences[i:i + batch_size]\n",
        "\n",
        "      # Perform Viterbi decoding and compute negative log-likelihood loss.\n",
        "      # We only need the log probability for the purposes of training.\n",
        "      _, log_probs = viterbi_decoding(batch, A, b, pi)\n",
        "      loss = -log_probs.sum()\n",
        "\n",
        "      # Backpropagation.\n",
        "      loss.backward()\n",
        "      # Add gradient clipping in the case the gradient becomes too large.\n",
        "      nn.utils.clip_grad_norm_([A, b, pi], max_norm=1.0)\n",
        "      optimizer.step()\n",
        "\n",
        "      # Add the calculated loss to the total loss.\n",
        "      total_loss += loss.item()\n",
        "\n",
        "    print(f\"Epoch {epoch + 1}/{n_epochs}, Loss: {total_loss:.4f}\")"
      ],
      "metadata": {
        "id": "lmvGqoDqOjxN"
      },
      "execution_count": 149,
      "outputs": []
    },
    {
      "cell_type": "code",
      "source": [
        "train_hmm(train_sequences, A, b, pi, epochs, lr, batch_size)"
      ],
      "metadata": {
        "colab": {
          "base_uri": "https://localhost:8080/"
        },
        "outputId": "e60e583b-cdbc-4e97-d38b-8a1c5d96b558",
        "id": "PxhZVAYwOjxN"
      },
      "execution_count": 150,
      "outputs": [
        {
          "output_type": "stream",
          "name": "stdout",
          "text": [
            "Epoch 1/40, Loss: 21475.3033\n",
            "Epoch 2/40, Loss: 20885.4706\n",
            "Epoch 3/40, Loss: 20295.8539\n",
            "Epoch 4/40, Loss: 19706.3005\n",
            "Epoch 5/40, Loss: 19116.8066\n",
            "Epoch 6/40, Loss: 18527.3499\n",
            "Epoch 7/40, Loss: 17937.9034\n",
            "Epoch 8/40, Loss: 17348.4808\n",
            "Epoch 9/40, Loss: 16759.0699\n",
            "Epoch 10/40, Loss: 16169.6628\n",
            "Epoch 11/40, Loss: 15580.2708\n",
            "Epoch 12/40, Loss: 14990.8780\n",
            "Epoch 13/40, Loss: 14401.4947\n",
            "Epoch 14/40, Loss: 13812.1124\n",
            "Epoch 15/40, Loss: 13222.7380\n",
            "Epoch 16/40, Loss: 12633.3584\n",
            "Epoch 17/40, Loss: 12043.9821\n",
            "Epoch 18/40, Loss: 11454.5906\n",
            "Epoch 19/40, Loss: 10865.1617\n",
            "Epoch 20/40, Loss: 10275.7179\n",
            "Epoch 21/40, Loss: 9686.2827\n",
            "Epoch 22/40, Loss: 9096.8468\n",
            "Epoch 23/40, Loss: 8507.4180\n",
            "Epoch 24/40, Loss: 7917.9944\n",
            "Epoch 25/40, Loss: 7328.5760\n",
            "Epoch 26/40, Loss: 6739.1620\n",
            "Epoch 27/40, Loss: 6149.7513\n",
            "Epoch 28/40, Loss: 5560.3446\n",
            "Epoch 29/40, Loss: 4970.9421\n",
            "Epoch 30/40, Loss: 4381.5418\n",
            "Epoch 31/40, Loss: 3792.1462\n",
            "Epoch 32/40, Loss: 3202.7512\n",
            "Epoch 33/40, Loss: 2613.3590\n",
            "Epoch 34/40, Loss: 2023.9700\n",
            "Epoch 35/40, Loss: 1434.5843\n",
            "Epoch 36/40, Loss: 845.1978\n",
            "Epoch 37/40, Loss: 255.8286\n",
            "Epoch 38/40, Loss: -333.5123\n",
            "Epoch 39/40, Loss: -922.8411\n",
            "Epoch 40/40, Loss: -1512.1691\n"
          ]
        }
      ]
    },
    {
      "cell_type": "markdown",
      "source": [
        "## Evaluating the data with inference, ROC curve, and confusion matrix"
      ],
      "metadata": {
        "id": "dcXMf1BiOjxN"
      }
    },
    {
      "cell_type": "code",
      "source": [
        "def predict_labels(observed_sequences, labels, A, b, pi):\n",
        "#For inference purposes, we only need the best paths from our Viterbi decoding function.\n",
        "  pred, _ = viterbi_decoding(observed_sequences, A, b, pi)\n",
        "  states = pred[:,-1]\n",
        "  print(states)\n",
        "  correct = (states == labels).sum().item()\n",
        "  total = labels.numel()\n",
        "  accuracy = correct / total\n",
        "  return accuracy, states"
      ],
      "metadata": {
        "id": "VfgXMszlOjxN"
      },
      "execution_count": 151,
      "outputs": []
    },
    {
      "cell_type": "code",
      "source": [
        "val_results, _ = predict_labels(val_sequences, val_labels, A, b, pi)\n",
        "print(val_labels)\n",
        "print(val_results)"
      ],
      "metadata": {
        "colab": {
          "base_uri": "https://localhost:8080/"
        },
        "outputId": "7f75787c-bd82-4dc2-bf40-c7cc20b7cb84",
        "id": "Tznv15h5OjxN"
      },
      "execution_count": 152,
      "outputs": [
        {
          "output_type": "stream",
          "name": "stdout",
          "text": [
            "tensor([1, 1, 1, 1, 1, 1, 1, 1, 1, 1, 0, 1, 1, 0, 1, 1, 1, 1, 1, 1, 1, 1, 1, 1,\n",
            "        1, 1, 1, 1, 1, 1, 1, 1, 1, 1, 1, 1, 1, 1, 1, 1, 1, 1, 1, 1, 1])\n",
            "tensor([0, 0, 1, 0, 1, 1, 1, 1, 1, 1, 1, 1, 0, 1, 0, 0, 1, 1, 0, 1, 1, 0, 1, 0,\n",
            "        1, 1, 0, 0, 1, 1, 0, 0, 0, 1, 1, 1, 0, 0, 0, 1, 1, 1, 1, 0, 1])\n",
            "0.5555555555555556\n"
          ]
        }
      ]
    },
    {
      "cell_type": "code",
      "source": [
        "# Define true labels and predicted labels.\n",
        "true = test_labels.numpy()\n",
        "_, pred = predict_labels(test_sequences, test_labels, A, b, pi)\n",
        "pred = pred.numpy()"
      ],
      "metadata": {
        "colab": {
          "base_uri": "https://localhost:8080/"
        },
        "outputId": "245aba32-1c1f-49bf-997b-968e35c763e1",
        "id": "Cy7csnqFOjxO"
      },
      "execution_count": 153,
      "outputs": [
        {
          "output_type": "stream",
          "name": "stdout",
          "text": [
            "tensor([1, 1, 1, 1, 1, 1, 1, 1, 1, 1, 1, 1, 1, 1, 1, 1, 1, 1, 1, 1, 1, 1, 1, 1,\n",
            "        0, 1, 1, 1, 1, 1, 1, 1, 1, 1, 1, 1, 1, 1, 1, 1, 1, 1, 1, 1, 0])\n"
          ]
        }
      ]
    },
    {
      "cell_type": "code",
      "source": [
        "#C Calculate confusion matrix of the dataset on the test data.\n",
        "TP = ((pred == 1) & (true == 1)).sum().item()\n",
        "TN = ((pred == 0) & (true == 0)).sum().item()\n",
        "FP = ((pred == 1) & (true == 0)).sum().item()\n",
        "FN = ((pred == 0) & (true == 1)).sum().item()\n",
        "\n",
        "conf_matrix = torch.tensor([[TN, FP], [FN, TP]])\n",
        "print(conf_matrix)"
      ],
      "metadata": {
        "colab": {
          "base_uri": "https://localhost:8080/"
        },
        "outputId": "2504da92-b402-4e74-c360-cb5cc69e4224",
        "id": "Uyx2fcJ7OjxO"
      },
      "execution_count": 154,
      "outputs": [
        {
          "output_type": "stream",
          "name": "stdout",
          "text": [
            "tensor([[ 0, 19],\n",
            "        [ 2, 24]])\n"
          ]
        }
      ]
    },
    {
      "cell_type": "code",
      "source": [
        "import matplotlib.pyplot as plt\n",
        "\n",
        "# Sort by predicted scores in descending order.\n",
        "sorted_indices = np.argsort(-pred)\n",
        "true = true[sorted_indices]\n",
        "pred = pred[sorted_indices]\n",
        "\n",
        "thresh = np.unique(pred)\n",
        "tpr = []  # True positive rate.\n",
        "fpr = []  # False positive rate.\n",
        "\n",
        "# Total positives and negatives.\n",
        "P = sum(true)\n",
        "N = len(true) - P\n",
        "\n",
        "# Iterate through thresholds.\n",
        "for t in thresh:\n",
        "  # Classify predictions as positive or negative.\n",
        "  lab = (pred >= t)\n",
        "\n",
        "  TP = np.sum((lab == 1) & (true == 1))\n",
        "  FP = np.sum((lab == 1) & (true == 0))\n",
        "  FN = np.sum((lab == 0) & (true == 1))\n",
        "  TN = np.sum((lab == 0) & (true == 0))\n",
        "\n",
        "  # Calculate TPR and FPR.\n",
        "  tpr.append(TP/P)\n",
        "  fpr.append(FP/N)\n",
        "\n",
        "auc = np.trapz(tpr, fpr)\n",
        "print(auc)\n",
        "\n",
        "plt.figure()\n",
        "plt.plot(fpr, tpr, marker='o', label=\"ROC Curve\")\n",
        "plt.plot([0, 1], [0, 1], linestyle='--', color='gray', label=\"Random Classifier\")\n",
        "plt.xlabel(\"False Positive Rate (FPR)\")\n",
        "plt.ylabel(\"True Positive Rate (TPR)\")\n",
        "plt.title(\"ROC Curve\")\n",
        "plt.legend(loc=\"lower right\")\n",
        "plt.show()"
      ],
      "metadata": {
        "colab": {
          "base_uri": "https://localhost:8080/",
          "height": 0
        },
        "outputId": "7697fbeb-7b8b-4e10-a4ab-be1818be6447",
        "id": "epthBLEGOjxO"
      },
      "execution_count": 155,
      "outputs": [
        {
          "output_type": "stream",
          "name": "stdout",
          "text": [
            "0.0\n"
          ]
        },
        {
          "output_type": "display_data",
          "data": {
            "text/plain": [
              "<Figure size 640x480 with 1 Axes>"
            ],
            "image/png": "[encoded data removed]"
          },
          "metadata": {}
        }
      ]
    },
    {
      "cell_type": "markdown",
      "source": [
        "# Shakira"
      ],
      "metadata": {
        "id": "ReatKyXROpKb"
      }
    },
    {
      "cell_type": "markdown",
      "source": [
        "## Data preprocessing/tokenization"
      ],
      "metadata": {
        "id": "0B9b658tOpKc"
      }
    },
    {
      "cell_type": "code",
      "source": [
        "# Number of states (ham, spam) and features.\n",
        "n_states = 2\n",
        "\n",
        "# Maximum number of words that will be defined its sown token.\n",
        "n_features = 400\n",
        "\n",
        "# Load the dataset.\n",
        "df = pd.read_csv(\"Youtube05-Shakira.csv\", header=None, names=[\"ID\", \"Author\", \"Date\", \"Message\", \"Label\"])"
      ],
      "metadata": {
        "id": "VgUzw5DEOpKc"
      },
      "execution_count": 156,
      "outputs": []
    },
    {
      "cell_type": "code",
      "source": [
        "# Map labels ham/spam to binary values.\n",
        "df['Label'] = df['Label'].map({'0': 0, '1': 1})\n",
        "\n",
        "# Train/Val/Test split: 80%/10%/10%\n",
        "train_data = df.sample(n=int((df.shape[0])*0.8), random_state=10)\n",
        "rem = df.drop(train_data.index)\n",
        "val_data = rem.sample(n=int((rem.shape[0])*0.5), random_state=10)\n",
        "test_data = rem.drop(val_data.index)\n",
        "\n",
        "# Extract text data and labels.\n",
        "train_text = train_data['Message'].tolist()\n",
        "train_labels = train_data['Label'].tolist()\n",
        "val_text = val_data['Message'].tolist()\n",
        "val_labels = val_data['Label'].tolist()\n",
        "test_text = test_data['Message'].tolist()\n",
        "test_labels = test_data['Label'].tolist()\n",
        "\n",
        "#train_text = train_text[:500]\n",
        "#train_labels = train_labels[:500]\n",
        "#val_text = val_text[:100]\n",
        "#val_labels = val_labels[:100]\n",
        "#test_text = test_text[:100]\n",
        "#test_labels = test_labels[:100]\n",
        "\n",
        "# Initialize a vocabulary and assign each unique word an integer ID.\n",
        "word_to_id = defaultdict(lambda: len(word_to_id))\n",
        "\n",
        "# Special tokens for padding and unknown words\n",
        "PAD_TOKEN = \"<PAD>\"\n",
        "UNK_TOKEN = \"<UNK>\"\n",
        "word_to_id[PAD_TOKEN] = 0\n",
        "word_to_id[UNK_TOKEN] = 1\n",
        "\n",
        "# Function to tokenize and encode each message.\n",
        "def tokenize_and_encode(msgs, word_to_id):\n",
        "    encoded_sequences = []\n",
        "    for msg in msgs:\n",
        "        tokens = msg.split()\n",
        "        encoded_msg = [word_to_id[token] if token in word_to_id else word_to_id[UNK_TOKEN]\n",
        "                           for token in tokens]\n",
        "        encoded_sequences.append(encoded_msg)\n",
        "    return encoded_sequences"
      ],
      "metadata": {
        "id": "EW77PsrlOpKd"
      },
      "execution_count": 157,
      "outputs": []
    },
    {
      "cell_type": "code",
      "source": [
        "# Assign each string in the dataset a token\n",
        "text_data_shuffle = train_data['Message'].tolist()\n",
        "random.shuffle(text_data_shuffle)\n",
        "for message in text_data_shuffle:\n",
        "  tokens = message.split() # Split the strings in each message to process every word separately.\n",
        "  for token in tokens:\n",
        "    if len(word_to_id) >= n_features: # Cap the dictionary length to the defined number of features to prevent overfitting.\n",
        "      break\n",
        "    _ = word_to_id[token] # If a word isn't already assigned a token, give it a token.\n",
        "  if len(word_to_id) >= n_features:\n",
        "    break"
      ],
      "metadata": {
        "id": "4fSyphZdOpKd"
      },
      "execution_count": 158,
      "outputs": []
    },
    {
      "cell_type": "code",
      "source": [
        "print(\"Vocabulary:\", dict(word_to_id))"
      ],
      "metadata": {
        "colab": {
          "base_uri": "https://localhost:8080/"
        },
        "outputId": "4d161c4e-3cc7-4aca-cf38-f812f8e7b910",
        "id": "DPDdjB_QOpKd"
      },
      "execution_count": 159,
      "outputs": [
        {
          "output_type": "stream",
          "name": "stdout",
          "text": [
            "Vocabulary: {'<PAD>': 0, '<UNK>': 1, 'Check': 2, 'out': 3, 'this': 4, 'playlist': 5, 'on': 6, 'YouTube:\\ufeff': 7, 'You': 8, 'guys': 9, 'should': 10, 'check': 11, 'EXTRAORDINARY': 12, 'website': 13, 'called': 14, 'ZONEPA.COM': 15, '.': 16, 'can': 17, 'make': 18, 'money': 19, 'online': 20, 'and': 21, 'start': 22, 'working': 23, 'from': 24, 'home': 25, 'today': 26, 'as': 27, 'I': 28, 'am!': 29, 'am': 30, 'making': 31, 'over': 32, '$3,000+': 33, 'per': 34, 'month': 35, 'at': 36, '!': 37, 'Visit': 38, 'Zonepa.com': 39, 'it': 40, 'out!': 41, 'The': 42, 'meat': 43, 'discusss': 44, 'the': 45, 'successful': 46, 'memory.': 47, 'How': 48, 'does': 49, 'peaceful': 50, 'unit': 51, 'arbitrate': 52, 'guide?': 53, 'addition': 54, 'designs': 55, 'worried': 56, 'loss.': 57, 'My': 58, 'friend': 59, 'Sam': 60, 'loves': 61, 'song😊😊😊😊😊😊😊😊😊😊😊😊😊😊😊😊😊😊😊😊😊😊😊😊😊😊😊😊😊😊😊😊😊😊😊😊😊😊😊😊😊😊😊😊😊😊\\ufeff': 62, 'Hey': 63, 'Music': 64, 'Fans': 65, 'really': 66, 'appreciate': 67, 'any': 68, 'of': 69, 'you': 70, 'who': 71, 'will': 72, 'take': 73, 'time': 74, 'to': 75, 'read': 76, 'this,': 77, 'my': 78, 'music': 79, 'I&#39;m': 80, 'just': 81, 'a': 82, '15': 83, 'year': 84, 'old': 85, 'boy': 86, 'DREAMING': 87, 'being': 88, 'MUSICIAN': 89, 'in': 90, 'world.': 91, 'do': 92, 'lots': 93, 'covers,': 94, 'piano': 95, 'covers.': 96, 'But': 97, 'don&#39;t': 98, 'have': 99, 'advertise.': 100, 'A': 101, 'simple': 102, 'thumbs': 103, 'up': 104, 'comment,': 105, 'comment': 106, 'videos': 107, 'or': 108, 'SUBSCRIPTION': 109, 'would': 110, 'be': 111, 'step': 112, 'forward!': 113, 'It': 114, 'only': 115, 'few': 116, 'seconds': 117, 'your': 118, 'life': 119, 'that': 120, 'won&#39;t': 121, 'regret!!!': 122, 'Thank': 123, 'u': 124, 'all': 125, 'people': 126, 'give': 127, 'me': 128, 'chance!': 129, ':)': 130, 'Hi.': 131, 'share': 132, 'our': 133, 'songs.': 134, 'youtubers...': 135, 'took': 136, 'time,': 137, '19': 138, 'wants': 139, 'musician': 140, 'dont': 141, 'advertise': 142, 'channel,': 143, 'If': 144, 'could': 145, 'visit': 146, 'video': 147, 'subscribe,': 148, 'great....': 149, 'life.....': 150, 'gave': 151, 'chance': 152, 'l': 153, 'like': 154, 'song': 155, '\\ufeff': 156, 'Can': 157, 'channel': 158, 'get': 159, '500+': 160, 'subscribers?': 161, 'happen': 162, ':D\\ufeff': 163, 'Hello': 164, 'everyone': 165, 'know': 166, 'most': 167, 'probably': 168, 'pass': 169, 'these': 170, 'kind': 171, 'comments,': 172, 'but': 173, 'for': 174, 'those': 175, 'are': 176, 'still': 177, 'reading': 178, 'thanks!': 179, 'don’t': 180, 'advertisements,': 181, 'no': 182, 'getting': 183, 'heard,': 184, 'nothing.': 185, 'live': 186, 'such': 187, 'small': 188, 'town...': 189, 'comes': 190, 'off': 191, 'spam,': 192, 'sorry.': 193, 'I’m': 194, 'an': 195, 'instrumental': 196, 'songwriter': 197, 'Columbus,': 198, 'Mississippi.': 199, 'Please': 200, 'go': 201, 'original': 202, 'music.': 203, 'highly': 204, 'appreciated': 205, 'if': 206, 'so': 207, 'heard!': 208, 'you,': 209, 'Adam': 210, 'Whitney': 211, 'subscribe': 212, 'feed': 213, 'means': 214, 'lot!': 215, 'Stop': 216, 'Wasting': 217, 'Up': 218, 'Your': 219, 'Time': 220, 'Get': 221, 'Paid': 222, 'To': 223, 'Mess': 224, 'Around': 225, 'On': 226, 'Facebook': 227, 'And': 228, 'Twitter!': 229, 'GET': 230, 'PAID': 231, 'UPTO': 232, '$25': 233, '$35': 234, 'AN': 235, 'HOUR...': 236, 'Only': 237, '4NetJobs.com': 238, 'Work': 239, 'Comfort': 240, 'Home...': 241, 'We': 242, 'Currently': 243, 'Hiring': 244, 'People': 245, 'Over': 246, 'World,': 247, 'For': 248, 'Wide': 249, 'Range': 250, 'Social': 251, 'Media': 252, 'Jobs': 253, 'Sites': 254, 'Facebook,Twitter': 255, 'YouTube.': 256, 'Need': 257, 'Prior': 258, 'Skills': 259, 'Experience': 260, 'Begin': 261, 'Immediately!': 262, 'Easily': 263, 'Make': 264, '$4000': 265, '$5000+': 266, 'Monthly': 267, 'Income…Only': 268, 'she': 269, 'is': 270, 'beautiful': 271, 'not': 272, 'American!\\ufeff': 273, 'everyone,': 274, 'Is': 275, 'intention': 276, 'spam': 277, 'truly': 278, 'sorry': 279, 'anyone': 280, 'annoyed': 281, 'by': 282, 'please': 283, 'hear': 284, 'out.': 285, 'rapper,': 286, 'singer,': 287, 'producer': 288, 'writer': 289, 'been': 290, 'while': 291, 'now,': 292, 'eight': 293, 'years': 294, 'exact.': 295, 'enjoy': 296, 'types': 297, 'listen': 298, 'to,': 299, 'doesn&#39;t': 300, 'talking': 301, 'about': 302, 'killing': 303, 'importantly,': 304, 'focuses': 305, 'quality': 306, 'page,': 307, 'It&#39;s': 308, 'click': 309, 'away.': 310, 'nice': 311, 'day': 312, 'shakira..\\ufeff': 313, 'want': 314, 'win': 315, 'hopme': 316, 'here': 317, '<a': 318, 'href=\"https://www.paidverts.com/ref/sihaam01\">https://www.paidverts.com/ref/sihaam01</a>': 319, 'it&#39;s': 320, 'work': 321, '100/100\\ufeff': 322, 'Could': 323, 'covers': 324, 'channel?': 325, 'Adele,': 326, 'Kodaline,': 327, 'Imagine': 328, 'Dragons...and': 329, 'more.': 330, 'spare': 331, 'minutes,': 332, 'one': 333, 'two': 334, ',': 335, 'Feel': 336, 'free': 337, 'you!': 338, 'i': 339, 'remember': 340, 'song!': 341, 'love': 342, 'girl': 343, 'name': 344, 'cause': 345, 'knows': 346, 'how': 347, 'dance': 348, 'search': 349, 'ej': 350, 'ba': 351, 'dancing.\\ufeff': 352, 'Whose': 353, 'watching': 354, '2015.': 355, 'hi-5\\ufeff': 356, '*******': 357, 'LAME': 358, '2004!': 359, '------------': 360, 'swagFriends': 361, 'com': 362, 'thousands': 363, 'cool': 364, 'new': 365, 'friends': 366, 'everyday!': 367, 'Join': 368, 'movement!': 369, 'Love': 370, 'itt': 371, 'ppl': 372, 'channel!!!': 373, '**CHECK': 374, 'OUT': 375, 'MY': 376, 'NEW': 377, 'MIXTAPE****': 378, 'MIXTAPE***': 379, '***CHECK': 380, 'MIXTAPE******CHECK': 381, 'plz': 382, 'wilsubscribe': 383, 'frndzzl': 384, 'back': 385, 'Like\\ufeff': 386, 'Fuck': 387, 'was': 388, 'best': 389, 'ever': 390, '0687119038': 391, 'nummber': 392, 'patrik': 393, 'kluivert': 394, 'his': 395, 'son': 396, '!\\ufeff': 397, 'adf.ly': 398, '/': 399}\n"
          ]
        }
      ]
    },
    {
      "cell_type": "code",
      "source": [
        "# Apply tokenization and encoding to dataset.\n",
        "token_text = tokenize_and_encode(train_text, word_to_id)\n",
        "\n",
        "# Pad sequences to the same length for batch processing.\n",
        "def pad_sequences(sequences, max_length, pad_value=0):\n",
        "  padded_sequences = []\n",
        "  for seq in sequences:\n",
        "    if len(seq) < max_length:\n",
        "      padded_seq = seq + [pad_value] * (max_length - len(seq))\n",
        "    else:\n",
        "      padded_seq = seq[:max_length]\n",
        "    padded_sequences.append(padded_seq)\n",
        "  return padded_sequences\n",
        "\n",
        "# Set a maximum sequence length.\n",
        "max_length = 70\n",
        "\n",
        "#Tokenize the training, validation, and test sequences\n",
        "train_sequences = pad_sequences(token_text, max_length, pad_value=word_to_id[PAD_TOKEN])\n",
        "val_sequences = pad_sequences(tokenize_and_encode(val_text, word_to_id), max_length, pad_value=word_to_id[PAD_TOKEN])\n",
        "test_sequences = pad_sequences(tokenize_and_encode(test_text, word_to_id), max_length, pad_value=word_to_id[PAD_TOKEN])\n",
        "\n",
        "# Convert sequences and labels to PyTorch tensors.\n",
        "train_sequences = torch.tensor(train_sequences, dtype=torch.long)\n",
        "#train_labels = torch.tensor(train_labels, dtype=torch.long)\n",
        "val_sequences = torch.tensor(val_sequences, dtype=torch.long)\n",
        "val_labels = torch.tensor(val_labels, dtype=torch.long)\n",
        "test_sequences = torch.tensor(test_sequences, dtype=torch.long)\n",
        "test_labels = torch.tensor(test_labels, dtype=torch.long)"
      ],
      "metadata": {
        "id": "6mRlqo9SOpKd"
      },
      "execution_count": 160,
      "outputs": []
    },
    {
      "cell_type": "markdown",
      "source": [
        "##Viterbi algorithm and training"
      ],
      "metadata": {
        "id": "v9zbwMDbOpKe"
      }
    },
    {
      "cell_type": "code",
      "source": [
        "# Define transitions.\n",
        "A = nn.Parameter(nn.functional.log_softmax(torch.randn(n_states,n_states), dim=0)).float()\n",
        "\n",
        "# Define emissions.\n",
        "b = nn.Parameter(nn.functional.log_softmax(torch.randn(n_states,n_features), dim=0)).float()\n",
        "\n",
        "# Define initial state probabilities; state priors.\n",
        "pi = nn.Parameter(nn.functional.log_softmax(torch.randn(n_states), dim=0)).float()"
      ],
      "metadata": {
        "id": "oG7rxh19OpKe"
      },
      "execution_count": 161,
      "outputs": []
    },
    {
      "cell_type": "code",
      "source": [
        "def viterbi_decoding(observed_sequences, A, b, pi):\n",
        "\n",
        "  batch_size, seq_len = observed_sequences.shape\n",
        "  n_states = A.shape[0]\n",
        "\n",
        "  # Initialize omega and psi.\n",
        "  omega = torch.zeros(batch_size, seq_len, n_states).float()\n",
        "  psi = torch.zeros(batch_size, seq_len, n_states).long()\n",
        "\n",
        "  # Enable CUDA if available.\n",
        "  device = torch.device(\"cuda\" if torch.cuda.is_available() else \"cpu\")\n",
        "  observed_sequences = observed_sequences.to(device)\n",
        "  A = A.to(device)\n",
        "  b = b.to(device)\n",
        "  pi = pi.to(device)\n",
        "  omega = omega.to(device)\n",
        "  psi = psi.to(device)\n",
        "\n",
        "  # Initialize the omega value.\n",
        "  omega[:, 0, :] = pi + b[:, observed_sequences[:, 0]].T\n",
        "\n",
        "  # Recursion.\n",
        "  for t in range(1, seq_len):\n",
        "    omega_tminus1 = omega[:, t-1, :].unsqueeze(2)\n",
        "    log_transition = omega_tminus1 + A.unsqueeze(0)\n",
        "\n",
        "    # Get max probabilities and their indices.\n",
        "    max_log_probs, psi[:, t, :] = log_transition.max(dim=1)\n",
        "    omega[:, t, :] = max_log_probs + b[:, observed_sequences[:, t]].T\n",
        "\n",
        "  # Backtrace to find the most probable states.\n",
        "  best_paths = torch.zeros(batch_size, seq_len).long()\n",
        "  best_paths = best_paths.to(device)\n",
        "  best_paths[:, -1] = omega[:, -1, :].argmax(dim=1)\n",
        "\n",
        "  for t in range(seq_len - 2, -1, -1):\n",
        "    best_paths[:, t] = psi[torch.arange(batch_size), t + 1, best_paths[:, t + 1]]\n",
        "\n",
        "  # The log probability of the best paths can be accessed from the omega matrix.\n",
        "  log_prob = omega[torch.arange(batch_size), -1, best_paths[:, -1]]\n",
        "\n",
        "  return best_paths, log_prob"
      ],
      "metadata": {
        "id": "j9gIYUSQOpKe"
      },
      "execution_count": 162,
      "outputs": []
    },
    {
      "cell_type": "code",
      "source": [
        "epochs = 40\n",
        "batch_size = 32\n",
        "lr = 0.001\n",
        "\n",
        "def train_hmm(observed_sequences, A, b, pi, n_epochs, lr, batch_size):\n",
        "  # Initialize Adam optimizer and gradient clip in case the gradient becomes too large.\n",
        "  optimizer = optim.Adam([A, b, pi], lr=lr)\n",
        "\n",
        "  # Calculate number of batches.\n",
        "  batches = (len(observed_sequences) + batch_size - 1) // b\n",
        "\n",
        "  # Initialize total loss function and enable gradient calculations.\n",
        "  for epoch in range(n_epochs):\n",
        "    total_loss = 0\n",
        "    optimizer.zero_grad()\n",
        "\n",
        "    for i in range(0, len(observed_sequences), batch_size):\n",
        "      batch = observed_sequences[i:i + batch_size]\n",
        "\n",
        "      # Perform Viterbi decoding and compute negative log-likelihood loss.\n",
        "      # We only need the log probability for the purposes of training.\n",
        "      _, log_probs = viterbi_decoding(batch, A, b, pi)\n",
        "      loss = -log_probs.sum()\n",
        "\n",
        "      # Backpropagation.\n",
        "      loss.backward()\n",
        "      # Add gradient clipping in the case the gradient becomes too large.\n",
        "      nn.utils.clip_grad_norm_([A, b, pi], max_norm=1.0)\n",
        "      optimizer.step()\n",
        "\n",
        "      # Add the calculated loss to the total loss.\n",
        "      total_loss += loss.item()\n",
        "\n",
        "    print(f\"Epoch {epoch + 1}/{n_epochs}, Loss: {total_loss:.4f}\")"
      ],
      "metadata": {
        "id": "H0WYDqmsOpKe"
      },
      "execution_count": 163,
      "outputs": []
    },
    {
      "cell_type": "code",
      "source": [
        "train_hmm(train_sequences, A, b, pi, epochs, lr, batch_size)"
      ],
      "metadata": {
        "colab": {
          "base_uri": "https://localhost:8080/"
        },
        "outputId": "c28ffcd2-19d3-4285-ef55-a9090be321f1",
        "id": "2koIjZZHOpKf"
      },
      "execution_count": 164,
      "outputs": [
        {
          "output_type": "stream",
          "name": "stdout",
          "text": [
            "Epoch 1/40, Loss: 17296.6649\n",
            "Epoch 2/40, Loss: 16893.6767\n",
            "Epoch 3/40, Loss: 16491.7437\n",
            "Epoch 4/40, Loss: 16090.0388\n",
            "Epoch 5/40, Loss: 15688.4847\n",
            "Epoch 6/40, Loss: 15287.0284\n",
            "Epoch 7/40, Loss: 14885.6443\n",
            "Epoch 8/40, Loss: 14484.3319\n",
            "Epoch 9/40, Loss: 14083.0579\n",
            "Epoch 10/40, Loss: 13681.8140\n",
            "Epoch 11/40, Loss: 13280.6172\n",
            "Epoch 12/40, Loss: 12879.4243\n",
            "Epoch 13/40, Loss: 12478.2608\n",
            "Epoch 14/40, Loss: 12077.1084\n",
            "Epoch 15/40, Loss: 11675.9743\n",
            "Epoch 16/40, Loss: 11274.8473\n",
            "Epoch 17/40, Loss: 10873.7291\n",
            "Epoch 18/40, Loss: 10472.6198\n",
            "Epoch 19/40, Loss: 10071.5291\n",
            "Epoch 20/40, Loss: 9670.4332\n",
            "Epoch 21/40, Loss: 9269.3522\n",
            "Epoch 22/40, Loss: 8868.2711\n",
            "Epoch 23/40, Loss: 8467.1986\n",
            "Epoch 24/40, Loss: 8066.1286\n",
            "Epoch 25/40, Loss: 7665.0589\n",
            "Epoch 26/40, Loss: 7263.9650\n",
            "Epoch 27/40, Loss: 6862.6501\n",
            "Epoch 28/40, Loss: 6461.2432\n",
            "Epoch 29/40, Loss: 6059.7984\n",
            "Epoch 30/40, Loss: 5658.3586\n",
            "Epoch 31/40, Loss: 5256.9052\n",
            "Epoch 32/40, Loss: 4855.4382\n",
            "Epoch 33/40, Loss: 4453.9778\n",
            "Epoch 34/40, Loss: 4052.5305\n",
            "Epoch 35/40, Loss: 3651.0999\n",
            "Epoch 36/40, Loss: 3249.6778\n",
            "Epoch 37/40, Loss: 2848.2694\n",
            "Epoch 38/40, Loss: 2446.8665\n",
            "Epoch 39/40, Loss: 2045.5057\n",
            "Epoch 40/40, Loss: 1644.1657\n"
          ]
        }
      ]
    },
    {
      "cell_type": "markdown",
      "source": [
        "## Evaluating the data with inference, ROC curve, and confusion matrix"
      ],
      "metadata": {
        "id": "z8nEzyZmOpKf"
      }
    },
    {
      "cell_type": "code",
      "source": [
        "def predict_labels(observed_sequences, labels, A, b, pi):\n",
        "#For inference purposes, we only need the best paths from our Viterbi decoding function.\n",
        "  pred, _ = viterbi_decoding(observed_sequences, A, b, pi)\n",
        "  states = pred[:,-1]\n",
        "  print(states)\n",
        "  correct = (states == labels).sum().item()\n",
        "  total = labels.numel()\n",
        "  accuracy = correct / total\n",
        "  return accuracy, states"
      ],
      "metadata": {
        "id": "MFsFH2-wOpKf"
      },
      "execution_count": 165,
      "outputs": []
    },
    {
      "cell_type": "code",
      "source": [
        "val_results, _ = predict_labels(val_sequences, val_labels, A, b, pi)\n",
        "print(val_labels)\n",
        "print(val_results)"
      ],
      "metadata": {
        "colab": {
          "base_uri": "https://localhost:8080/"
        },
        "outputId": "ffbf4339-4fb2-4bd3-d273-9e823cf6963c",
        "id": "1gEQQQ7mOpKg"
      },
      "execution_count": 166,
      "outputs": [
        {
          "output_type": "stream",
          "name": "stdout",
          "text": [
            "tensor([0, 1, 1, 1, 1, 1, 1, 1, 1, 1, 1, 1, 1, 1, 1, 1, 1, 1, 1, 1, 1, 1, 1, 1,\n",
            "        1, 1, 1, 1, 1, 1, 1, 1, 1, 1, 1, 1, 1])\n",
            "tensor([1, 1, 1, 0, 0, 1, 0, 0, 0, 1, 1, 0, 0, 0, 1, 1, 1, 0, 1, 1, 0, 0, 0, 0,\n",
            "        1, 1, 1, 0, 0, 1, 0, 0, 1, 0, 0, 0, 0])\n",
            "0.40540540540540543\n"
          ]
        }
      ]
    },
    {
      "cell_type": "code",
      "source": [
        "# Define true labels and predicted labels.\n",
        "true = test_labels.numpy()\n",
        "_, pred = predict_labels(test_sequences, test_labels, A, b, pi)\n",
        "pred = pred.numpy()"
      ],
      "metadata": {
        "colab": {
          "base_uri": "https://localhost:8080/"
        },
        "outputId": "c20a722c-c71e-448e-a9b5-b66c1d79bf5f",
        "id": "PxL2m7rFOpKg"
      },
      "execution_count": 167,
      "outputs": [
        {
          "output_type": "stream",
          "name": "stdout",
          "text": [
            "tensor([1, 1, 1, 1, 1, 1, 1, 1, 1, 1, 1, 1, 1, 1, 1, 1, 1, 1, 1, 1, 1, 1, 1, 1,\n",
            "        1, 1, 1, 1, 1, 1, 1, 1, 1, 1, 1, 1, 1, 1])\n"
          ]
        }
      ]
    },
    {
      "cell_type": "code",
      "source": [
        "#C Calculate confusion matrix of the dataset on the test data.\n",
        "TP = ((pred == 1) & (true == 1)).sum().item()\n",
        "TN = ((pred == 0) & (true == 0)).sum().item()\n",
        "FP = ((pred == 1) & (true == 0)).sum().item()\n",
        "FN = ((pred == 0) & (true == 1)).sum().item()\n",
        "\n",
        "conf_matrix = torch.tensor([[TN, FP], [FN, TP]])\n",
        "print(conf_matrix)"
      ],
      "metadata": {
        "colab": {
          "base_uri": "https://localhost:8080/"
        },
        "outputId": "6f1baec7-bc0a-45e9-9ace-eb0dc3dd5113",
        "id": "HZ-7n_oEOpKg"
      },
      "execution_count": 168,
      "outputs": [
        {
          "output_type": "stream",
          "name": "stdout",
          "text": [
            "tensor([[ 0, 27],\n",
            "        [ 0, 11]])\n"
          ]
        }
      ]
    },
    {
      "cell_type": "code",
      "source": [
        "import matplotlib.pyplot as plt\n",
        "\n",
        "# Sort by predicted scores in descending order.\n",
        "sorted_indices = np.argsort(-pred)\n",
        "true = true[sorted_indices]\n",
        "pred = pred[sorted_indices]\n",
        "\n",
        "thresh = np.unique(pred)\n",
        "tpr = []  # True positive rate.\n",
        "fpr = []  # False positive rate.\n",
        "\n",
        "# Total positives and negatives.\n",
        "P = sum(true)\n",
        "N = len(true) - P\n",
        "\n",
        "# Iterate through thresholds.\n",
        "for t in thresh:\n",
        "  # Classify predictions as positive or negative.\n",
        "  lab = (pred >= t)\n",
        "\n",
        "  TP = np.sum((lab == 1) & (true == 1))\n",
        "  FP = np.sum((lab == 1) & (true == 0))\n",
        "  FN = np.sum((lab == 0) & (true == 1))\n",
        "  TN = np.sum((lab == 0) & (true == 0))\n",
        "\n",
        "  # Calculate TPR and FPR.\n",
        "  tpr.append(TP/P)\n",
        "  fpr.append(FP/N)\n",
        "\n",
        "auc = np.trapz(tpr, fpr)\n",
        "print(auc)\n",
        "\n",
        "plt.figure()\n",
        "plt.plot(fpr, tpr, marker='o', label=\"ROC Curve\")\n",
        "plt.plot([0, 1], [0, 1], linestyle='--', color='gray', label=\"Random Classifier\")\n",
        "plt.xlabel(\"False Positive Rate (FPR)\")\n",
        "plt.ylabel(\"True Positive Rate (TPR)\")\n",
        "plt.title(\"ROC Curve\")\n",
        "plt.legend(loc=\"lower right\")\n",
        "plt.show()"
      ],
      "metadata": {
        "colab": {
          "base_uri": "https://localhost:8080/",
          "height": 489
        },
        "outputId": "e5f1c57f-98ea-4bf4-c5bb-8a80b6464afe",
        "id": "Q3v_LMSSOpKg"
      },
      "execution_count": 169,
      "outputs": [
        {
          "output_type": "stream",
          "name": "stdout",
          "text": [
            "0.0\n"
          ]
        },
        {
          "output_type": "display_data",
          "data": {
            "text/plain": [
              "<Figure size 640x480 with 1 Axes>"
            ],
            "image/png": "[encoded data removed]"
          },
          "metadata": {}
        }
      ]
    }
  ]
}