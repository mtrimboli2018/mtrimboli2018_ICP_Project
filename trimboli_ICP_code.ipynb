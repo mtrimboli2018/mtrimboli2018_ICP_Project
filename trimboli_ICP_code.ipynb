{
  "nbformat": 4,
  "nbformat_minor": 0,
  "metadata": {
    "colab": {
      "provenance": []
    },
    "kernelspec": {
      "name": "python3",
      "display_name": "Python 3"
    },
    "language_info": {
      "name": "python"
    }
  },
  "cells": [
    {
      "cell_type": "markdown",
      "source": [
        "##Initialization"
      ],
      "metadata": {
        "id": "qjEcDTGN99iR"
      }
    },
    {
      "cell_type": "code",
      "execution_count": 72,
      "metadata": {
        "id": "pN3bDra0EgOe"
      },
      "outputs": [],
      "source": [
        "import numpy as np\n",
        "import torch\n",
        "import torch.nn as nn\n",
        "import torch.optim as optim\n",
        "\n",
        "import pandas as pd\n",
        "from collections import defaultdict\n",
        "import random\n",
        "np.random.seed(212)"
      ]
    },
    {
      "cell_type": "code",
      "source": [
        "import requests\n",
        "import zipfile\n",
        "import io\n",
        "\n",
        "# URL of the dataset.\n",
        "url = \"https://archive.ics.uci.edu/ml/machine-learning-databases/00228/smsspamcollection.zip\"\n",
        "\n",
        "# Download the dataset.\n",
        "response = requests.get(url)\n",
        "\n",
        "# Unzip the downloaded content.\n",
        "with zipfile.ZipFile(io.BytesIO(response.content)) as z:\n",
        "    z.extractall()"
      ],
      "metadata": {
        "id": "wUgAfSneU-8M"
      },
      "execution_count": 73,
      "outputs": []
    },
    {
      "cell_type": "markdown",
      "source": [
        "## Data preprocessing/tokenization"
      ],
      "metadata": {
        "id": "T9PJz9Fm-gAF"
      }
    },
    {
      "cell_type": "code",
      "source": [
        "# Number of states (ham, spam) and features.\n",
        "n_states = 2\n",
        "\n",
        "# Maximum number of words that will be defined its sown token.\n",
        "n_features = 400\n",
        "\n",
        "# Load the dataset.\n",
        "df = pd.read_csv(\"SMSSpamCollection\", sep=\"\\t\", header=None, names=[\"Label\", \"Message\"])\n",
        "\n",
        "# Map labels ham/spam to binary values.\n",
        "df['Label'] = df['Label'].map({'ham': 0, 'spam': 1})\n",
        "\n",
        "# Train/Val/Test split: 80%/10%/10%\n",
        "train_data = df.sample(n=int((df.shape[0])*0.8), random_state=10)\n",
        "rem = df.drop(train_data.index)\n",
        "val_data = rem.sample(n=int((rem.shape[0])*0.5), random_state=10)\n",
        "test_data = rem.drop(val_data.index)\n",
        "\n",
        "# Extract text data and labels.\n",
        "train_text = train_data['Message'].tolist()\n",
        "train_labels = train_data['Label'].tolist()\n",
        "val_text = val_data['Message'].tolist()\n",
        "val_labels = val_data['Label'].tolist()\n",
        "test_text = test_data['Message'].tolist()\n",
        "test_labels = test_data['Label'].tolist()\n",
        "\n",
        "train_text = train_text[:500]\n",
        "train_labels = train_labels[:500]\n",
        "val_text = val_text[:100]\n",
        "val_labels = val_labels[:100]\n",
        "test_text = test_text[:100]\n",
        "test_labels = test_labels[:100]\n",
        "\n",
        "# Initialize a vocabulary and assign each unique word an integer ID.\n",
        "word_to_id = defaultdict(lambda: len(word_to_id))\n",
        "\n",
        "# Special tokens for padding and unknown words\n",
        "PAD_TOKEN = \"<PAD>\"\n",
        "UNK_TOKEN = \"<UNK>\"\n",
        "word_to_id[PAD_TOKEN] = 0\n",
        "word_to_id[UNK_TOKEN] = 1\n",
        "\n",
        "# Function to tokenize and encode each message.\n",
        "def tokenize_and_encode(msgs, word_to_id):\n",
        "    encoded_sequences = []\n",
        "    for msg in msgs:\n",
        "        tokens = msg.split()\n",
        "        encoded_msg = [word_to_id[token] if token in word_to_id else word_to_id[UNK_TOKEN]\n",
        "                           for token in tokens]\n",
        "        encoded_sequences.append(encoded_msg)\n",
        "    return encoded_sequences"
      ],
      "metadata": {
        "id": "gXt_MWJy3Tmf"
      },
      "execution_count": 74,
      "outputs": []
    },
    {
      "cell_type": "code",
      "source": [
        "# Assign each string in the dataset a token\n",
        "text_data_shuffle = train_data['Message'].tolist()\n",
        "random.shuffle(text_data_shuffle)\n",
        "for message in text_data_shuffle:\n",
        "  tokens = message.split() # Split the strings in each message to process every word separately.\n",
        "  for token in tokens:\n",
        "    if len(word_to_id) >= n_features: # Cap the dictionary length to the defined number of features to prevent overfitting.\n",
        "      break\n",
        "    _ = word_to_id[token] # If a word isn't already assigned a token, give it a token.\n",
        "  if len(word_to_id) >= n_features:\n",
        "    break"
      ],
      "metadata": {
        "id": "C7XnhjI7SZV5"
      },
      "execution_count": 75,
      "outputs": []
    },
    {
      "cell_type": "code",
      "source": [
        "# Preview of the vocabulary that will be used for the emmission probabilities.\n",
        "print(\"Vocabulary:\", dict(word_to_id))"
      ],
      "metadata": {
        "colab": {
          "base_uri": "https://localhost:8080/"
        },
        "id": "h9uxWoE1SlgD",
        "outputId": "3723f633-c4dd-45be-ab29-0bc3ec52b87d"
      },
      "execution_count": 76,
      "outputs": [
        {
          "output_type": "stream",
          "name": "stdout",
          "text": [
            "Vocabulary: {'<PAD>': 0, '<UNK>': 1, 'Sorry,': 2, \"I'll\": 3, 'call': 4, 'later': 5, 'Ok': 6, 'i': 7, 'will': 8, 'tell': 9, 'her': 10, 'to': 11, 'stay': 12, 'out.': 13, 'Yeah': 14, 'its': 15, 'been': 16, 'tough': 17, 'but': 18, 'we': 19, 'are': 20, 'optimistic': 21, 'things': 22, 'improve': 23, 'this': 24, 'month.': 25, 'New': 26, 'Theory:': 27, 'Argument': 28, 'wins': 29, 'd': 30, 'SITUATION,': 31, 'loses': 32, 'the': 33, 'PERSON.': 34, 'So': 35, 'dont': 36, 'argue': 37, 'with': 38, 'ur': 39, 'friends': 40, 'just..': 41, '.': 42, 'kick': 43, 'them': 44, '&amp;': 45, 'say,': 46, \"I'm\": 47, 'always': 48, 'correct.!': 49, 'ok....take': 50, 'care.umma': 51, 'you': 52, 'too...': 53, 'Yes': 54, 'watching': 55, 'footie': 56, 'worried': 57, \"we're\": 58, 'going': 59, 'blow': 60, 'it': 61, '-': 62, 'Phil': 63, 'Neville?': 64, 'Hope': 65, 'text': 66, 'meets': 67, 'smiling.': 68, 'If': 69, 'not': 70, 'then': 71, 'let': 72, 'give': 73, 'a': 74, 'reason': 75, 'smile.': 76, 'Have': 77, 'beautiful': 78, 'day.': 79, 'Every': 80, 'King': 81, 'Was': 82, 'Once': 83, 'A': 84, 'Crying': 85, 'Baby': 86, 'And': 87, 'Great': 88, 'Building': 89, 'Map..': 90, 'Not': 91, 'Imprtant': 92, 'Where': 93, 'U': 94, 'r': 95, 'TODAY,': 96, 'BUT': 97, 'Wil': 98, 'Reach': 99, 'TOMORW.': 100, 'Gud': 101, 'ni8': 102, 'Ha': 103, 'ha': 104, 'had': 105, 'popped': 106, 'down': 107, 'loo': 108, 'when': 109, 'hello-ed': 110, 'me.': 111, 'Hello!': 112, 'Filthy': 113, 'stories': 114, 'and': 115, 'GIRLS': 116, 'waiting': 117, 'for': 118, 'your': 119, 'like': 120, 'be': 121, 'spoiled?': 122, ':)': 123, 'Fighting': 124, 'world': 125, 'is': 126, 'easy,': 127, 'u': 128, 'either': 129, 'win': 130, 'or': 131, 'lose': 132, 'bt': 133, 'fightng': 134, 'some1': 135, 'who': 136, 'close': 137, 'dificult': 138, 'if': 139, 'still': 140, 'lose.': 141, ':-)': 142, 'Eh': 143, 'remember': 144, 'how': 145, '2': 146, 'spell': 147, 'his': 148, 'name...': 149, 'did.': 150, 'He': 151, 'v': 152, 'naughty': 153, 'make': 154, 'until': 155, 'wet.': 156, 'No': 157, 'shoot': 158, 'in': 159, 'docs': 160, 'room.': 161, ':/': 162, 'Simply': 163, 'sitting': 164, 'match': 165, 'office..': 166, 'Today': 167, 'ACCEPT': 168, 'DAY..U': 169, 'Accept': 170, 'me': 171, 'as?': 172, 'Brother': 173, 'Sister': 174, 'Lover': 175, 'Dear1': 176, 'Best1': 177, 'Clos1': 178, 'Lvblefrnd': 179, 'Jstfrnd': 180, 'Cutefrnd': 181, 'Lifpartnr': 182, 'Belovd': 183, 'Swtheart': 184, 'Bstfrnd': 185, 'rply': 186, 'means': 187, 'enemy': 188, '5': 189, 'nights...We': 190, 'nt': 191, 'staying': 192, 'at': 193, 'port': 194, 'step': 195, 'liao...Too': 196, 'ex': 197, 'Hi': 198, 'Kate': 199, 'evening?': 200, 'I': 201, 'hope': 202, 'can': 203, 'see': 204, 'tomorrow': 205, 'bit': 206, 'have': 207, 'bloody': 208, 'babyjontet!': 209, 'Txt': 210, 'back': 211, 'can.': 212, 'xxx': 213, 'Dunno': 214, 'da': 215, 'next': 216, 'show': 217, 'aft': 218, '6': 219, '850.': 220, 'Toa': 221, 'payoh': 222, 'got': 223, '650.': 224, 'Urgent!': 225, '09066350750': 226, 'from': 227, 'landline.': 228, 'Your': 229, 'complimentary': 230, '4*': 231, 'Ibiza': 232, 'Holiday': 233, '10,000': 234, 'cash': 235, 'await': 236, 'collection': 237, 'SAE': 238, 'T&Cs': 239, 'PO': 240, 'BOX': 241, '434': 242, 'SK3': 243, '8WP': 244, '150': 245, 'ppm': 246, '18+': 247, 'House-Maid': 248, 'murderer,': 249, 'coz': 250, 'man': 251, 'was': 252, 'murdered': 253, 'on': 254, '&lt;#&gt;': 255, 'th': 256, 'January..': 257, 'As': 258, 'public': 259, 'holiday': 260, 'all': 261, 'govt.instituitions': 262, 'closed,including': 263, 'post': 264, 'office..understand?': 265, 'But': 266, 'am': 267, 'college': 268, 'pa.': 269, 'What': 270, 'do.': 271, 'else': 272, 'ill': 273, 'come': 274, 'there': 275, 'self.': 276, 'Pa.': 277, 'Dear': 278, 'Sir,Salam': 279, 'Alaikkum.Pride': 280, 'Pleasure': 281, 'meeting': 282, 'today': 283, 'Tea': 284, 'Shop.We': 285, 'pleased': 286, 'send': 287, 'our': 288, 'contact': 289, 'number': 290, 'Qatar.Rakhesh': 291, 'an': 292, 'Indian.Pls': 293, 'save': 294, 'Number.Respectful': 295, 'Regards.': 296, \"how's\": 297, 'weather': 298, 'over': 299, 'there?': 300, 'Horrible': 301, 'gal.': 302, 'Me': 303, 'sch': 304, 'doing': 305, 'some': 306, 'stuff.': 307, 'How': 308, 'mc?': 309, 'cool': 310, 'tyler': 311, 'take': 312, 'off': 313, 'so': 314, 'gonna': 315, 'buy': 316, 'him': 317, 'drop': 318, 'place': 319, 'tonight.': 320, 'Our': 321, 'total': 322, 'order': 323, 'quarter,': 324, 'enough?': 325, 'Pls': 326, 'help': 327, 'sura': 328, 'that': 329, \"i'm\": 330, 'expecting': 331, 'battery': 332, 'hont.': 333, 'should': 334, 'pls': 335, 'message': 336, 'about': 337, 'download': 338, 'movies.': 339, 'Thanks': 340, 'Dude': 341, 'haircut.': 342, 'Now': 343, 'breezy': 344, 'up': 345, 'K,': 346, 'bored': 347, 'just': 348, 'my': 349, 'home..': 350, 'Wow': 351, 'healthy.': 352, 'Old': 353, 'airport': 354, 'rd': 355, 'lor.': 356, 'Cant': 357, 'thk': 358, 'of': 359, 'anything': 360, 'else.': 361, \"i'll\": 362, 'b': 363, 'bathing': 364, 'dog': 365, 'later.': 366, 'R': 367, 'working': 368, 'now?': 369, 'Yup': 370, 'they': 371, 'e': 372, 'teacher': 373, 'said': 374, 'face': 375, 'look': 376, 'longer.': 377, 'Darren': 378, 'ask': 379, 'cut': 380, 'too': 381, 'short.': 382, 'You': 383, 'important': 384, 'customer': 385, 'service': 386, 'announcement': 387, 'PREMIER.': 388, 'Call': 389, 'FREEPHONE': 390, '0800': 391, '542': 392, '0578': 393, 'now!': 394, 'URGENT!': 395, 'Last': 396, \"weekend's\": 397, 'draw': 398, 'shows': 399}\n"
          ]
        }
      ]
    },
    {
      "cell_type": "code",
      "source": [
        "# Apply tokenization and encoding to dataset.\n",
        "token_text = tokenize_and_encode(train_text, word_to_id)\n",
        "\n",
        "# Pad sequences to the same length for batch processing.\n",
        "def pad_sequences(sequences, max_length, pad_value=0):\n",
        "  padded_sequences = []\n",
        "  for seq in sequences:\n",
        "    if len(seq) < max_length:\n",
        "      padded_seq = seq + [pad_value] * (max_length - len(seq))\n",
        "    else:\n",
        "      padded_seq = seq[:max_length]\n",
        "    padded_sequences.append(padded_seq)\n",
        "  return padded_sequences\n",
        "\n",
        "# Set a maximum sequence length.\n",
        "max_length = 50\n",
        "\n",
        "#Tokenize the training, validation, and test sequences\n",
        "train_sequences = pad_sequences(token_text, max_length, pad_value=word_to_id[PAD_TOKEN])\n",
        "val_sequences = pad_sequences(tokenize_and_encode(val_text, word_to_id), max_length, pad_value=word_to_id[PAD_TOKEN])\n",
        "test_sequences = pad_sequences(tokenize_and_encode(test_text, word_to_id), max_length, pad_value=word_to_id[PAD_TOKEN])\n",
        "\n",
        "# Convert sequences and labels to PyTorch tensors.\n",
        "train_sequences = torch.tensor(train_sequences, dtype=torch.long)\n",
        "train_labels = torch.tensor(train_labels, dtype=torch.long)\n",
        "val_sequences = torch.tensor(val_sequences, dtype=torch.long)\n",
        "val_labels = torch.tensor(val_labels, dtype=torch.long)\n",
        "test_sequences = torch.tensor(test_sequences, dtype=torch.long)\n",
        "test_labels = torch.tensor(test_labels, dtype=torch.long)"
      ],
      "metadata": {
        "id": "oejGioFMNGrC"
      },
      "execution_count": 77,
      "outputs": []
    },
    {
      "cell_type": "markdown",
      "source": [
        "##Viterbi algorithm and training"
      ],
      "metadata": {
        "id": "hn3YxfqS-j5k"
      }
    },
    {
      "cell_type": "code",
      "source": [
        "# Define transitions.\n",
        "A = nn.Parameter(nn.functional.log_softmax(torch.randn(n_states,n_states), dim=0)).float()\n",
        "\n",
        "# Define emissions.\n",
        "b = nn.Parameter(nn.functional.log_softmax(torch.randn(n_states,n_features), dim=0)).float()\n",
        "\n",
        "# Define initial state probabilities; state priors.\n",
        "pi = nn.Parameter(nn.functional.log_softmax(torch.randn(n_states), dim=0)).float()"
      ],
      "metadata": {
        "id": "H4haQXFpXljd"
      },
      "execution_count": 85,
      "outputs": []
    },
    {
      "cell_type": "code",
      "source": [
        "def viterbi_decoding(observed_sequences, A, b, pi):\n",
        "\n",
        "  batch_size, seq_len = observed_sequences.shape\n",
        "  n_states = A.shape[0]\n",
        "\n",
        "  # Initialize omega and psi.\n",
        "  omega = torch.zeros(batch_size, seq_len, n_states).float()\n",
        "  psi = torch.zeros(batch_size, seq_len, n_states).long()\n",
        "\n",
        "  # Enable CUDA if available.\n",
        "  device = torch.device(\"cuda\" if torch.cuda.is_available() else \"cpu\")\n",
        "  observed_sequences = observed_sequences.to(device)\n",
        "  A = A.to(device)\n",
        "  b = b.to(device)\n",
        "  pi = pi.to(device)\n",
        "  omega = omega.to(device)\n",
        "  psi = psi.to(device)\n",
        "\n",
        "  # Initialize the omega value.\n",
        "  omega[:, 0, :] = pi + b[:, observed_sequences[:, 0]].T\n",
        "\n",
        "  # Recursion.\n",
        "  for t in range(1, seq_len):\n",
        "    omega_tminus1 = omega[:, t-1, :].unsqueeze(2)\n",
        "    log_transition = omega_tminus1 + A.unsqueeze(0)\n",
        "\n",
        "    # Get max probabilities and their indices.\n",
        "    max_log_probs, psi[:, t, :] = log_transition.max(dim=1)\n",
        "    omega[:, t, :] = max_log_probs + b[:, observed_sequences[:, t]].T\n",
        "\n",
        "  # Backtrace to find the most probable states.\n",
        "  best_paths = torch.zeros(batch_size, seq_len).long()\n",
        "  best_paths = best_paths.to(device)\n",
        "  best_paths[:, -1] = omega[:, -1, :].argmax(dim=1)\n",
        "\n",
        "  for t in range(seq_len - 2, -1, -1):\n",
        "    best_paths[:, t] = psi[torch.arange(batch_size), t + 1, best_paths[:, t + 1]]\n",
        "\n",
        "  # The log probability of the best paths can be accessed from the omega matrix.\n",
        "  log_prob = omega[torch.arange(batch_size), -1, best_paths[:, -1]]\n",
        "\n",
        "  return best_paths, log_prob"
      ],
      "metadata": {
        "id": "SUAMszGoUC0y"
      },
      "execution_count": 79,
      "outputs": []
    },
    {
      "cell_type": "code",
      "source": [
        "epochs = 100\n",
        "batch_size = 32\n",
        "lr = 0.0001\n",
        "\n",
        "def train_hmm(observed_sequences, A, b, pi, n_epochs, lr, batch_size):\n",
        "  # Initialize Adam optimizer and gradient clip in case the gradient becomes too large.\n",
        "  optimizer = optim.Adam([A, b, pi], lr=lr)\n",
        "\n",
        "  # Calculate number of batches.\n",
        "  batches = (len(observed_sequences) + batch_size - 1) // b\n",
        "\n",
        "  # Initialize total loss function and enable gradient calculations.\n",
        "  for epoch in range(n_epochs):\n",
        "    total_loss = 0\n",
        "    optimizer.zero_grad()\n",
        "\n",
        "    for i in range(0, len(observed_sequences), batch_size):\n",
        "      batch = observed_sequences[i:i + batch_size]\n",
        "\n",
        "      # Perform Viterbi decoding and compute negative log-likelihood loss.\n",
        "      # We only need the log probability for the purposes of training.\n",
        "      _, log_probs = viterbi_decoding(batch, A, b, pi)\n",
        "      loss = -log_probs.sum()\n",
        "\n",
        "      # Backpropagation.\n",
        "      loss.backward()\n",
        "      # Add gradient clipping in the case the gradient becomes too large.\n",
        "      nn.utils.clip_grad_norm_([A, b, pi], max_norm=1.0)\n",
        "      optimizer.step()\n",
        "\n",
        "      # Add the calculated loss to the total loss.\n",
        "      total_loss += loss.item()\n",
        "\n",
        "    print(f\"Epoch {epoch + 1}/{n_epochs}, Loss: {total_loss:.4f}\")"
      ],
      "metadata": {
        "id": "TF0ZMFzTig9S"
      },
      "execution_count": 84,
      "outputs": []
    },
    {
      "cell_type": "code",
      "source": [
        "train_hmm(train_sequences, A, b, pi, epochs, lr, batch_size)"
      ],
      "metadata": {
        "colab": {
          "base_uri": "https://localhost:8080/"
        },
        "id": "r-H7ic4_UJSp",
        "outputId": "90791071-3914-4385-bd7e-dcea87d75120"
      },
      "execution_count": 86,
      "outputs": [
        {
          "output_type": "stream",
          "name": "stdout",
          "text": [
            "Epoch 1/100, Loss: 31567.7946\n",
            "Epoch 2/100, Loss: 31489.3800\n",
            "Epoch 3/100, Loss: 31411.0052\n",
            "Epoch 4/100, Loss: 31332.6123\n",
            "Epoch 5/100, Loss: 31254.2271\n",
            "Epoch 6/100, Loss: 31175.8367\n",
            "Epoch 7/100, Loss: 31097.4518\n",
            "Epoch 8/100, Loss: 31019.0543\n",
            "Epoch 9/100, Loss: 30940.6658\n",
            "Epoch 10/100, Loss: 30862.2716\n",
            "Epoch 11/100, Loss: 30783.8760\n",
            "Epoch 12/100, Loss: 30705.4819\n",
            "Epoch 13/100, Loss: 30627.0874\n",
            "Epoch 14/100, Loss: 30548.6937\n",
            "Epoch 15/100, Loss: 30470.2986\n",
            "Epoch 16/100, Loss: 30391.9053\n",
            "Epoch 17/100, Loss: 30313.5122\n",
            "Epoch 18/100, Loss: 30235.1141\n",
            "Epoch 19/100, Loss: 30156.7128\n",
            "Epoch 20/100, Loss: 30078.3176\n",
            "Epoch 21/100, Loss: 29999.9156\n",
            "Epoch 22/100, Loss: 29921.5171\n",
            "Epoch 23/100, Loss: 29843.1144\n",
            "Epoch 24/100, Loss: 29764.7141\n",
            "Epoch 25/100, Loss: 29686.3195\n",
            "Epoch 26/100, Loss: 29607.9227\n",
            "Epoch 27/100, Loss: 29529.5269\n",
            "Epoch 28/100, Loss: 29451.1318\n",
            "Epoch 29/100, Loss: 29372.7368\n",
            "Epoch 30/100, Loss: 29294.3353\n",
            "Epoch 31/100, Loss: 29215.9396\n",
            "Epoch 32/100, Loss: 29137.5383\n",
            "Epoch 33/100, Loss: 29059.1379\n",
            "Epoch 34/100, Loss: 28980.7404\n",
            "Epoch 35/100, Loss: 28902.3429\n",
            "Epoch 36/100, Loss: 28823.9445\n",
            "Epoch 37/100, Loss: 28745.5420\n",
            "Epoch 38/100, Loss: 28667.1322\n",
            "Epoch 39/100, Loss: 28588.7277\n",
            "Epoch 40/100, Loss: 28510.3188\n",
            "Epoch 41/100, Loss: 28431.9160\n",
            "Epoch 42/100, Loss: 28353.5081\n",
            "Epoch 43/100, Loss: 28275.1049\n",
            "Epoch 44/100, Loss: 28196.6986\n",
            "Epoch 45/100, Loss: 28118.2950\n",
            "Epoch 46/100, Loss: 28039.8888\n",
            "Epoch 47/100, Loss: 27961.4865\n",
            "Epoch 48/100, Loss: 27883.0808\n",
            "Epoch 49/100, Loss: 27804.6774\n",
            "Epoch 50/100, Loss: 27726.2738\n",
            "Epoch 51/100, Loss: 27647.8718\n",
            "Epoch 52/100, Loss: 27569.4698\n",
            "Epoch 53/100, Loss: 27491.0664\n",
            "Epoch 54/100, Loss: 27412.6628\n",
            "Epoch 55/100, Loss: 27334.2632\n",
            "Epoch 56/100, Loss: 27255.8585\n",
            "Epoch 57/100, Loss: 27177.4586\n",
            "Epoch 58/100, Loss: 27099.0590\n",
            "Epoch 59/100, Loss: 27020.6559\n",
            "Epoch 60/100, Loss: 26942.2534\n",
            "Epoch 61/100, Loss: 26863.8508\n",
            "Epoch 62/100, Loss: 26785.4498\n",
            "Epoch 63/100, Loss: 26707.0472\n",
            "Epoch 64/100, Loss: 26628.6454\n",
            "Epoch 65/100, Loss: 26550.2434\n",
            "Epoch 66/100, Loss: 26471.8431\n",
            "Epoch 67/100, Loss: 26393.4437\n",
            "Epoch 68/100, Loss: 26315.0394\n",
            "Epoch 69/100, Loss: 26236.6398\n",
            "Epoch 70/100, Loss: 26158.2395\n",
            "Epoch 71/100, Loss: 26079.8403\n",
            "Epoch 72/100, Loss: 26001.4351\n",
            "Epoch 73/100, Loss: 25923.0348\n",
            "Epoch 74/100, Loss: 25844.6357\n",
            "Epoch 75/100, Loss: 25766.2369\n",
            "Epoch 76/100, Loss: 25687.8335\n",
            "Epoch 77/100, Loss: 25609.4366\n",
            "Epoch 78/100, Loss: 25531.0336\n",
            "Epoch 79/100, Loss: 25452.6320\n",
            "Epoch 80/100, Loss: 25374.2325\n",
            "Epoch 81/100, Loss: 25295.8339\n",
            "Epoch 82/100, Loss: 25217.4349\n",
            "Epoch 83/100, Loss: 25139.0364\n",
            "Epoch 84/100, Loss: 25060.6343\n",
            "Epoch 85/100, Loss: 24982.2346\n",
            "Epoch 86/100, Loss: 24903.8345\n",
            "Epoch 87/100, Loss: 24825.4321\n",
            "Epoch 88/100, Loss: 24747.0328\n",
            "Epoch 89/100, Loss: 24668.6333\n",
            "Epoch 90/100, Loss: 24590.2325\n",
            "Epoch 91/100, Loss: 24511.8312\n",
            "Epoch 92/100, Loss: 24433.4343\n",
            "Epoch 93/100, Loss: 24355.0335\n",
            "Epoch 94/100, Loss: 24276.6316\n",
            "Epoch 95/100, Loss: 24198.2305\n",
            "Epoch 96/100, Loss: 24119.8314\n",
            "Epoch 97/100, Loss: 24041.4324\n",
            "Epoch 98/100, Loss: 23963.0316\n",
            "Epoch 99/100, Loss: 23884.6333\n",
            "Epoch 100/100, Loss: 23806.2372\n"
          ]
        }
      ]
    },
    {
      "cell_type": "markdown",
      "source": [
        "## Evaluating the data with inference, ROC curve, and confusion matrix"
      ],
      "metadata": {
        "id": "lV74l5zj5eZg"
      }
    },
    {
      "cell_type": "code",
      "source": [
        "def predict_labels(observed_sequences, labels, A, b, pi):\n",
        "#For inference purposes, we only need the best paths from our Viterbi decoding function.\n",
        "  pred, _ = viterbi_decoding(observed_sequences, A, b, pi)\n",
        "  states = pred[:,-1]\n",
        "  print(states)\n",
        "  correct = (states == labels).sum().item()\n",
        "  total = labels.numel()\n",
        "  accuracy = correct / total\n",
        "  return accuracy, states"
      ],
      "metadata": {
        "id": "JF5i51mQ0uYn"
      },
      "execution_count": 94,
      "outputs": []
    },
    {
      "cell_type": "code",
      "source": [
        "val_results, _ = predict_labels(val_sequences, val_labels, A, b, pi)\n",
        "print(val_labels)\n",
        "print(val_results)"
      ],
      "metadata": {
        "colab": {
          "base_uri": "https://localhost:8080/"
        },
        "id": "hevVmTGfHF8Z",
        "outputId": "0a967067-36ab-488c-9548-c278695ab753"
      },
      "execution_count": 95,
      "outputs": [
        {
          "output_type": "stream",
          "name": "stdout",
          "text": [
            "tensor([1, 1, 1, 1, 1, 1, 0, 1, 1, 1, 1, 1, 1, 1, 1, 1, 1, 1, 1, 1, 1, 1, 1, 1,\n",
            "        1, 1, 1, 1, 1, 1, 1, 1, 1, 1, 1, 1, 1, 1, 1, 1, 1, 1, 1, 1, 1, 1, 1, 1,\n",
            "        1, 1, 1, 1, 1, 1, 1, 0, 0, 1, 1, 1, 1, 1, 1, 1, 1, 1, 1, 1, 1, 1, 1, 1,\n",
            "        1, 1, 1, 1, 1, 1, 1, 1, 1, 1, 1, 1, 1, 1, 1, 1, 1, 1, 1, 1, 1, 1, 1, 1,\n",
            "        1, 1, 1, 1])\n",
            "tensor([0, 0, 0, 0, 0, 0, 0, 0, 0, 0, 0, 0, 1, 0, 0, 0, 0, 0, 0, 0, 0, 0, 0, 0,\n",
            "        1, 0, 0, 0, 0, 1, 1, 0, 1, 0, 1, 0, 0, 0, 0, 0, 0, 0, 0, 0, 0, 1, 0, 0,\n",
            "        0, 0, 1, 0, 0, 0, 0, 0, 0, 0, 0, 0, 0, 0, 0, 0, 1, 0, 0, 0, 0, 0, 0, 0,\n",
            "        0, 0, 0, 0, 0, 0, 0, 0, 0, 0, 1, 1, 0, 0, 0, 0, 0, 0, 0, 0, 0, 0, 0, 0,\n",
            "        0, 0, 0, 0])\n",
            "0.14\n"
          ]
        }
      ]
    },
    {
      "cell_type": "code",
      "source": [
        "import matplotlib.pyplot as plt\n",
        "\n",
        "true = test_labels.numpy()\n",
        "_, pred = predict_labels(test_sequences, test_labels, A, b, pi)\n",
        "pred = pred.numpy()\n",
        "\n",
        "# Sort by predicted scores in descending order.\n",
        "sorted_indices = np.argsort(-pred)\n",
        "true = true[sorted_indices]\n",
        "pred = pred[sorted_indices]\n",
        "\n",
        "thresh = np.unique(pred)\n",
        "tpr = []  # True positive rate.\n",
        "fpr = []  # False positive rate.\n",
        "\n",
        "# Total positives and negatives.\n",
        "P = sum(true)\n",
        "N = len(true) - P\n",
        "\n",
        "# Iterate through thresholds.\n",
        "for t in thresh:\n",
        "  # Classify predictions as positive or negative.\n",
        "  lab = (pred >= t)\n",
        "\n",
        "  TP = np.sum((lab == 1) & (true == 1))\n",
        "  FP = np.sum((lab == 1) & (true == 0))\n",
        "  FN = np.sum((lab == 0) & (true == 1))\n",
        "  TN = np.sum((lab == 0) & (true == 0))\n",
        "\n",
        "  # Calculate TPR and FPR.\n",
        "  tpr.append(TP/P)\n",
        "  fpr.append(FP/N)\n",
        "\n",
        "auc = np.trapz(tpr, fpr)\n",
        "print(auc)\n",
        "\n",
        "plt.figure()\n",
        "plt.plot(fpr, tpr, marker='o', label=\"ROC Curve\")\n",
        "plt.plot([0, 1], [0, 1], linestyle='--', color='gray', label=\"Random Classifier\")\n",
        "plt.xlabel(\"False Positive Rate (FPR)\")\n",
        "plt.ylabel(\"True Positive Rate (TPR)\")\n",
        "plt.title(\"ROC Curve\")\n",
        "plt.legend(loc=\"lower right\")\n",
        "plt.show()"
      ],
      "metadata": {
        "colab": {
          "base_uri": "https://localhost:8080/",
          "height": 576
        },
        "id": "SP8jL3w15dWN",
        "outputId": "b1ee6812-2d0f-4734-cc97-2f075d667936"
      },
      "execution_count": 96,
      "outputs": [
        {
          "output_type": "stream",
          "name": "stdout",
          "text": [
            "tensor([1, 1, 1, 1, 1, 1, 1, 1, 1, 1, 1, 1, 1, 1, 1, 1, 1, 1, 1, 1, 1, 1, 1, 1,\n",
            "        1, 1, 1, 1, 1, 1, 1, 1, 1, 1, 1, 1, 1, 1, 1, 1, 1, 1, 1, 1, 1, 1, 1, 1,\n",
            "        1, 1, 1, 1, 1, 1, 1, 1, 1, 1, 1, 1, 1, 1, 1, 1, 1, 1, 1, 1, 1, 1, 1, 1,\n",
            "        1, 1, 1, 1, 1, 1, 1, 1, 1, 1, 1, 1, 1, 1, 1, 1, 1, 1, 1, 1, 1, 1, 1, 1,\n",
            "        1, 1, 1, 1])\n",
            "0.0\n"
          ]
        },
        {
          "output_type": "display_data",
          "data": {
            "text/plain": [
              "<Figure size 640x480 with 1 Axes>"
            ],
            "image/png": "[encoded data removed]"
          },
          "metadata": {}
        }
      ]
    }
  ]
}